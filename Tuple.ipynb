{
 "cells": [
  {
   "cell_type": "code",
   "execution_count": 3,
   "id": "bea0d2cf-05fc-4b63-9d74-7c565df022ed",
   "metadata": {},
   "outputs": [
    {
     "name": "stdout",
     "output_type": "stream",
     "text": [
      "4\n"
     ]
    }
   ],
   "source": [
    "names = (\"hossein\", \"mohsen\", \"ali\", \"milad\")\n",
    "print(len(names))"
   ]
  },
  {
   "cell_type": "code",
   "execution_count": 5,
   "id": "735f41dd-42ab-4c6d-b2fd-44ae01666c9b",
   "metadata": {},
   "outputs": [
    {
     "name": "stdout",
     "output_type": "stream",
     "text": [
      "<class 'tuple'>\n",
      "<class 'str'>\n"
     ]
    }
   ],
   "source": [
    "name = (\"hossein\",)\n",
    "print(type(name))\n",
    "####\n",
    "name = (\"hossein\")\n",
    "print(type(name))"
   ]
  },
  {
   "cell_type": "code",
   "execution_count": 6,
   "id": "bb20a091-7213-4934-bb1c-7630ae78abf4",
   "metadata": {},
   "outputs": [],
   "source": [
    "# The tuple() Constructor"
   ]
  },
  {
   "cell_type": "code",
   "execution_count": 7,
   "id": "d58d31f6-0494-45d1-8a79-ea73b96a61bc",
   "metadata": {},
   "outputs": [
    {
     "name": "stdout",
     "output_type": "stream",
     "text": [
      "('hossein', 'mohsen', 'ali', 'milad')\n"
     ]
    }
   ],
   "source": [
    "names = tuple((\"hossein\", \"mohsen\", \"ali\", \"milad\"))\n",
    "print(names)"
   ]
  },
  {
   "cell_type": "code",
   "execution_count": 8,
   "id": "b997b87e-86be-4760-a128-34ed142c22d8",
   "metadata": {},
   "outputs": [
    {
     "name": "stdout",
     "output_type": "stream",
     "text": [
      "hossein\n"
     ]
    }
   ],
   "source": [
    "print(names[0])"
   ]
  },
  {
   "cell_type": "code",
   "execution_count": 10,
   "id": "3e6c539d-6b0a-4541-b817-6afa0cc7d450",
   "metadata": {},
   "outputs": [
    {
     "name": "stdout",
     "output_type": "stream",
     "text": [
      "('mohsen', 'ali', 'milad')\n"
     ]
    }
   ],
   "source": [
    "names = (\"hossein\", \"mohsen\", \"ali\", \"milad\", \"ahmad\", \"mohammad\")\n",
    "print(names[1:4])"
   ]
  },
  {
   "cell_type": "code",
   "execution_count": 12,
   "id": "1fc8e3bd-0518-4a7f-af80-f32ea21243dd",
   "metadata": {},
   "outputs": [
    {
     "name": "stdout",
     "output_type": "stream",
     "text": [
      "Yes, the name is in the list.\n"
     ]
    }
   ],
   "source": [
    "if \"hossein\" in names:\n",
    "    print(\"Yes, the name is in the list.\")\n",
    "else:\n",
    "    print(\"No, the name isn't in the list.\") "
   ]
  },
  {
   "cell_type": "code",
   "execution_count": 13,
   "id": "c56a8794-8570-4dc9-8876-deee2ebf3f22",
   "metadata": {},
   "outputs": [],
   "source": [
    "# Update Tuples"
   ]
  },
  {
   "cell_type": "code",
   "execution_count": 14,
   "id": "aa64be22-3827-4766-ab22-721fbb62e916",
   "metadata": {},
   "outputs": [
    {
     "name": "stdout",
     "output_type": "stream",
     "text": [
      "('hossein', 'kianoush', 'ali', 'milad')\n"
     ]
    }
   ],
   "source": [
    "names = (\"hossein\", \"mohsen\", \"ali\", \"milad\")\n",
    "converter = list(names)\n",
    "converter[1] = \"kianoush\"\n",
    "names = tuple(converter)\n",
    "print(names)"
   ]
  },
  {
   "cell_type": "code",
   "execution_count": 15,
   "id": "45901428-a297-4d97-8f28-3b0f699f65af",
   "metadata": {},
   "outputs": [],
   "source": [
    "# Add Items"
   ]
  },
  {
   "cell_type": "code",
   "execution_count": 16,
   "id": "96950176-58de-4492-b869-bcbfdb3d23f6",
   "metadata": {},
   "outputs": [
    {
     "name": "stdout",
     "output_type": "stream",
     "text": [
      "('hossein', 'mohsen', 'ali', 'milad', 'zoleykha')\n"
     ]
    }
   ],
   "source": [
    "# 1- convert to list, then convert back\n",
    "\n",
    "names = (\"hossein\", \"mohsen\", \"ali\", \"milad\")\n",
    "converter = list(names)\n",
    "converter.append(\"zoleykha\")\n",
    "names = tuple(converter)\n",
    "print(names)"
   ]
  },
  {
   "cell_type": "code",
   "execution_count": 21,
   "id": "4706b7ed-68dd-47b4-a2d5-67da38d48ac0",
   "metadata": {},
   "outputs": [
    {
     "name": "stdout",
     "output_type": "stream",
     "text": [
      "('zoleykha', 'hossein', 'mohsen', 'ali', 'milad')\n"
     ]
    }
   ],
   "source": [
    "# add tuple to tuple\n",
    "\n",
    "names = (\"hossein\", \"mohsen\", \"ali\", \"milad\")\n",
    "name = (\"zoleykha\",)\n",
    "newNames = name + names\n",
    "print(newNames)"
   ]
  },
  {
   "cell_type": "code",
   "execution_count": 22,
   "id": "6891c838-67c9-4d58-9b41-bfcc42869cb4",
   "metadata": {},
   "outputs": [
    {
     "ename": "NameError",
     "evalue": "name 'names' is not defined",
     "output_type": "error",
     "traceback": [
      "\u001b[1;31m---------------------------------------------------------------------------\u001b[0m",
      "\u001b[1;31mNameError\u001b[0m                                 Traceback (most recent call last)",
      "Cell \u001b[1;32mIn[22], line 3\u001b[0m\n\u001b[0;32m      1\u001b[0m names \u001b[38;5;241m=\u001b[39m (\u001b[38;5;124m\"\u001b[39m\u001b[38;5;124mhossein\u001b[39m\u001b[38;5;124m\"\u001b[39m, \u001b[38;5;124m\"\u001b[39m\u001b[38;5;124mmohsen\u001b[39m\u001b[38;5;124m\"\u001b[39m, \u001b[38;5;124m\"\u001b[39m\u001b[38;5;124mali\u001b[39m\u001b[38;5;124m\"\u001b[39m, \u001b[38;5;124m\"\u001b[39m\u001b[38;5;124mmilad\u001b[39m\u001b[38;5;124m\"\u001b[39m)\n\u001b[0;32m      2\u001b[0m \u001b[38;5;28;01mdel\u001b[39;00m names\n\u001b[1;32m----> 3\u001b[0m \u001b[38;5;28mprint\u001b[39m(names)\n",
      "\u001b[1;31mNameError\u001b[0m: name 'names' is not defined"
     ]
    }
   ],
   "source": [
    "names = (\"hossein\", \"mohsen\", \"ali\", \"milad\")\n",
    "del names\n",
    "print(names)     # cause error bcause it has been deleted"
   ]
  },
  {
   "cell_type": "code",
   "execution_count": 23,
   "id": "470c2841-8f3a-4099-9f34-14f58beaca84",
   "metadata": {},
   "outputs": [],
   "source": [
    "# Unpacking a Tuple"
   ]
  },
  {
   "cell_type": "code",
   "execution_count": 25,
   "id": "9dc3f595-a4cc-45d8-b2fa-d9dd58ad5ab4",
   "metadata": {},
   "outputs": [
    {
     "name": "stdout",
     "output_type": "stream",
     "text": [
      "hossein\n",
      "mohsen\n",
      "ali\n"
     ]
    }
   ],
   "source": [
    "names = (\"hossein\", \"mohsen\", \"ali\")\n",
    "(programmar, actor, dentist) = names\n",
    "print(programmar)\n",
    "print(actor)\n",
    "print(dentist)"
   ]
  },
  {
   "cell_type": "code",
   "execution_count": 26,
   "id": "62722f00-834e-40f2-b827-ce3834985215",
   "metadata": {},
   "outputs": [
    {
     "name": "stdout",
     "output_type": "stream",
     "text": [
      "hossein\n",
      "['mohsen', 'ali']\n"
     ]
    }
   ],
   "source": [
    "(salesman, *vet) = names\n",
    "print(salesman)\n",
    "print(vet)"
   ]
  },
  {
   "cell_type": "code",
   "execution_count": 28,
   "id": "3b3bb26f-ff0b-4063-8a5b-bad20475b738",
   "metadata": {},
   "outputs": [
    {
     "name": "stdout",
     "output_type": "stream",
     "text": [
      "hossein\n",
      "['mohsen', 'ali', 'mohammad']\n",
      "ehsan\n"
     ]
    }
   ],
   "source": [
    "names = (\"hossein\", \"mohsen\", \"ali\", \"mohammad\", \"ehsan\")\n",
    "(vet, *worker, actor) = names\n",
    "print(vet)\n",
    "print(worker)\n",
    "print(actor)"
   ]
  },
  {
   "cell_type": "code",
   "execution_count": 29,
   "id": "cf4c31a7-30b0-4e8a-bbca-c220913d2232",
   "metadata": {},
   "outputs": [
    {
     "name": "stdout",
     "output_type": "stream",
     "text": [
      "('hossein', 'mohsen', 'ali', 'mohammad', 'ehsan', 'hossein', 'mohsen', 'ali', 'mohammad', 'ehsan')\n"
     ]
    }
   ],
   "source": [
    "# Multiply Tuples\n",
    "\n",
    "names = (\"hossein\", \"mohsen\", \"ali\", \"mohammad\", \"ehsan\")\n",
    "newNames = names * 2\n",
    "print(newNames)"
   ]
  }
 ],
 "metadata": {
  "kernelspec": {
   "display_name": "Python 3 (ipykernel)",
   "language": "python",
   "name": "python3"
  },
  "language_info": {
   "codemirror_mode": {
    "name": "ipython",
    "version": 3
   },
   "file_extension": ".py",
   "mimetype": "text/x-python",
   "name": "python",
   "nbconvert_exporter": "python",
   "pygments_lexer": "ipython3",
   "version": "3.11.7"
  }
 },
 "nbformat": 4,
 "nbformat_minor": 5
}
