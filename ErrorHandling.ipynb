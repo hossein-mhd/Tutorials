{
 "cells": [
  {
   "cell_type": "markdown",
   "id": "e8d448ba-5308-41cd-a48c-373c3e6cee70",
   "metadata": {},
   "source": [
    "**The *try* block lets you test a block of code for errors.**\n",
    "\n",
    "**The *except* block lets you handle the error.**\n",
    "\n",
    "**The *else* block lets you execute code when there is no error.**\n",
    "\n",
    "**The *finally* block lets you execute code, regardless of the result of the try- and except blocks.**"
   ]
  },
  {
   "cell_type": "code",
   "execution_count": 1,
   "id": "bbccedea-8bf9-4016-9368-075e8b2c9d35",
   "metadata": {},
   "outputs": [
    {
     "name": "stdout",
     "output_type": "stream",
     "text": [
      "yes there is an error\n"
     ]
    }
   ],
   "source": [
    "try:\n",
    "    print(a)\n",
    "except:\n",
    "    print(\"yes there is an error\")"
   ]
  },
  {
   "cell_type": "markdown",
   "id": "28425d64-d066-49d5-a4be-4b7f8796488b",
   "metadata": {},
   "source": [
    "Since the try block raises an error, the except block will be executed"
   ]
  },
  {
   "cell_type": "code",
   "execution_count": 2,
   "id": "1159e1f4-7e2a-4b3e-97ee-d4df7398b173",
   "metadata": {},
   "outputs": [
    {
     "name": "stdout",
     "output_type": "stream",
     "text": [
      "this is a name error\n"
     ]
    }
   ],
   "source": [
    "try:\n",
    "    print(a)\n",
    "except NameError:\n",
    "    print(\"this is a name error\")\n",
    "except:\n",
    "    print(\"another kind of error it is.\")"
   ]
  },
  {
   "cell_type": "markdown",
   "id": "a9acd9bd-0973-45b9-8839-bd441c36cea6",
   "metadata": {},
   "source": [
    "\n",
    "**Else**"
   ]
  },
  {
   "cell_type": "code",
   "execution_count": 3,
   "id": "7abf1709-4964-4bb0-95de-086f2ad63217",
   "metadata": {},
   "outputs": [
    {
     "name": "stdout",
     "output_type": "stream",
     "text": [
      "this is a test\n",
      "no problem has detected\n"
     ]
    }
   ],
   "source": [
    "try:\n",
    "    print(\"this is a test\")\n",
    "except:\n",
    "    print(\"a problem has detected\")\n",
    "else:\n",
    "    print(\"no problem has detected\")"
   ]
  },
  {
   "cell_type": "code",
   "execution_count": 4,
   "id": "692576c1-3a07-4002-832d-10bfd2ab2a9c",
   "metadata": {},
   "outputs": [
    {
     "name": "stdout",
     "output_type": "stream",
     "text": [
      "a problem has detected\n",
      "testing is finished\n"
     ]
    }
   ],
   "source": [
    "try:\n",
    "    print(a)\n",
    "except:\n",
    "    print(\"a problem has detected\")\n",
    "finally:\n",
    "    print(\"testing is finished\")"
   ]
  },
  {
   "cell_type": "markdown",
   "id": "88099978-69ce-481a-b894-38ed67df2d9f",
   "metadata": {},
   "source": [
    "This can be useful to close objects and clean up resources"
   ]
  },
  {
   "cell_type": "markdown",
   "id": "c581254a-12c4-49d6-a923-ccb6b3762e93",
   "metadata": {},
   "source": [
    "**Raise an exception**"
   ]
  },
  {
   "cell_type": "code",
   "execution_count": 8,
   "id": "41248ec2-2c48-43f9-ba88-c9be9ea1a14f",
   "metadata": {},
   "outputs": [
    {
     "ename": "Exception",
     "evalue": "invalid input",
     "output_type": "error",
     "traceback": [
      "\u001b[1;31m---------------------------------------------------------------------------\u001b[0m",
      "\u001b[1;31mException\u001b[0m                                 Traceback (most recent call last)",
      "Cell \u001b[1;32mIn[8], line 4\u001b[0m\n\u001b[0;32m      1\u001b[0m a \u001b[38;5;241m=\u001b[39m \u001b[38;5;241m1\u001b[39m\n\u001b[0;32m      3\u001b[0m \u001b[38;5;28;01mif\u001b[39;00m a \u001b[38;5;241m<\u001b[39m \u001b[38;5;241m2\u001b[39m:\n\u001b[1;32m----> 4\u001b[0m     \u001b[38;5;28;01mraise\u001b[39;00m \u001b[38;5;167;01mException\u001b[39;00m(\u001b[38;5;124m\"\u001b[39m\u001b[38;5;124minvalid input\u001b[39m\u001b[38;5;124m\"\u001b[39m)\n",
      "\u001b[1;31mException\u001b[0m: invalid input"
     ]
    }
   ],
   "source": [
    "a = 1\n",
    "\n",
    "if a < 2:\n",
    "    raise Exception(\"invalid input\")"
   ]
  },
  {
   "cell_type": "code",
   "execution_count": 9,
   "id": "9f181b6b-886b-4ceb-9d8d-88db52137335",
   "metadata": {},
   "outputs": [
    {
     "ename": "TypeError",
     "evalue": "invalid type",
     "output_type": "error",
     "traceback": [
      "\u001b[1;31m---------------------------------------------------------------------------\u001b[0m",
      "\u001b[1;31mTypeError\u001b[0m                                 Traceback (most recent call last)",
      "Cell \u001b[1;32mIn[9], line 4\u001b[0m\n\u001b[0;32m      1\u001b[0m a \u001b[38;5;241m=\u001b[39m \u001b[38;5;124m\"\u001b[39m\u001b[38;5;124mhossien\u001b[39m\u001b[38;5;124m\"\u001b[39m\n\u001b[0;32m      3\u001b[0m \u001b[38;5;28;01mif\u001b[39;00m \u001b[38;5;129;01mnot\u001b[39;00m \u001b[38;5;28mtype\u001b[39m(a) \u001b[38;5;129;01mis\u001b[39;00m \u001b[38;5;28mint\u001b[39m:\n\u001b[1;32m----> 4\u001b[0m     \u001b[38;5;28;01mraise\u001b[39;00m \u001b[38;5;167;01mTypeError\u001b[39;00m(\u001b[38;5;124m\"\u001b[39m\u001b[38;5;124minvalid type\u001b[39m\u001b[38;5;124m\"\u001b[39m)\n",
      "\u001b[1;31mTypeError\u001b[0m: invalid type"
     ]
    }
   ],
   "source": [
    "a = \"hossien\"\n",
    "\n",
    "if not type(a) is int:\n",
    "    raise TypeError(\"invalid type\")"
   ]
  },
  {
   "cell_type": "code",
   "execution_count": null,
   "id": "ff0ba6db-d068-4e0e-8f06-db0cbb15555b",
   "metadata": {},
   "outputs": [],
   "source": []
  }
 ],
 "metadata": {
  "kernelspec": {
   "display_name": "Python 3 (ipykernel)",
   "language": "python",
   "name": "python3"
  },
  "language_info": {
   "codemirror_mode": {
    "name": "ipython",
    "version": 3
   },
   "file_extension": ".py",
   "mimetype": "text/x-python",
   "name": "python",
   "nbconvert_exporter": "python",
   "pygments_lexer": "ipython3",
   "version": "3.11.7"
  }
 },
 "nbformat": 4,
 "nbformat_minor": 5
}
