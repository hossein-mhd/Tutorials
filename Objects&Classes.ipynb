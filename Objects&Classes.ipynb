{
 "cells": [
  {
   "cell_type": "code",
   "execution_count": 1,
   "id": "46eeaf37-b951-4353-83a2-8908334942a9",
   "metadata": {},
   "outputs": [
    {
     "name": "stdout",
     "output_type": "stream",
     "text": [
      "<class '__main__.names'>\n"
     ]
    }
   ],
   "source": [
    "# Creat Class\n",
    "class Names:\n",
    "    name1 = \"hossein\"\n",
    "    name2 = \"ali\"\n",
    "    \n",
    "print(Names)"
   ]
  },
  {
   "cell_type": "code",
   "execution_count": 13,
   "id": "80bc722f-c9da-4263-a7c7-a3050e438053",
   "metadata": {},
   "outputs": [
    {
     "name": "stdout",
     "output_type": "stream",
     "text": [
      "hossein\n"
     ]
    }
   ],
   "source": [
    "# Create Object\n",
    "class Names:\n",
    "    name1 = \"hossein\"\n",
    "    name2 = \"ali\"\n",
    "    \n",
    "name = Names()\n",
    "print(name.name1)"
   ]
  },
  {
   "cell_type": "code",
   "execution_count": 14,
   "id": "c0dc774d-c2c0-4586-9518-d939b92eb24a",
   "metadata": {},
   "outputs": [
    {
     "name": "stdout",
     "output_type": "stream",
     "text": [
      "hossein\n",
      "23\n"
     ]
    }
   ],
   "source": [
    "# The __init__() Function\n",
    "class Person:\n",
    "    def __init__(self, name, age):\n",
    "        self.name = name\n",
    "        self.age = age\n",
    "        \n",
    "newPerson = Person(\"hossein\", 23)\n",
    "print(newPerson.name)\n",
    "print(newPerson.age)\n",
    "# The __init__() function is called automatically every time the class is being used to create a new object."
   ]
  },
  {
   "cell_type": "code",
   "execution_count": 15,
   "id": "fca9f3e2-f2a6-4efd-b48a-013b1c5d2ca0",
   "metadata": {},
   "outputs": [
    {
     "name": "stdout",
     "output_type": "stream",
     "text": [
      "The name is hossein and the age is 23\n"
     ]
    }
   ],
   "source": [
    "# The __str__() Function\n",
    "class Person:\n",
    "    def __init__(self, name, age):\n",
    "        self.name = name\n",
    "        self.age = age\n",
    "    def __str__(self):\n",
    "        return f\"The name is {self.name} and the age is {self.age}\"\n",
    "        \n",
    "person1 = Person(\"hossein\", 23)\n",
    "print(person1)"
   ]
  },
  {
   "cell_type": "code",
   "execution_count": 15,
   "id": "17b29422-c51d-4bed-bc00-898743b7db55",
   "metadata": {},
   "outputs": [
    {
     "name": "stdout",
     "output_type": "stream",
     "text": [
      "Hello my name is hosseinand my age is  23\n"
     ]
    }
   ],
   "source": [
    "class Person:\n",
    "    def __init__(self, name, age):\n",
    "        self.name = name\n",
    "        self.age = age\n",
    "    def greeting(self):\n",
    "        print(\"Hello my name is \" + self.name + \"and my age is \", self.age)\n",
    "        \n",
    "person1 = Person(\"hossein\", 23)\n",
    "person1.greeting()\n",
    "\n",
    "# The self parameter is a reference to the current instance of the class, and is used to access variables that belong to the class."
   ]
  },
  {
   "cell_type": "code",
   "execution_count": 16,
   "id": "ac9b180c-70c4-4d1a-98cd-778686b71546",
   "metadata": {},
   "outputs": [],
   "source": [
    "# The self Parameter\n",
    "\n",
    "#The self parameter is a reference to the current instance of the class, and is used to access variables that belongs to the class.\n",
    "#It does not have to be named self , you can call it whatever you like, but it has to be the first parameter of any function in the class"
   ]
  },
  {
   "cell_type": "code",
   "execution_count": 18,
   "id": "34430599-f6a1-4654-af41-9f627ef90ccb",
   "metadata": {},
   "outputs": [
    {
     "name": "stdout",
     "output_type": "stream",
     "text": [
      "Hello my name is hosseinand my age is  23\n"
     ]
    }
   ],
   "source": [
    "class Person:\n",
    "    def __init__(delkhah, name, age):\n",
    "        delkhah.name = name\n",
    "        delkhah.age = age\n",
    "    def greeting(harchibashe):\n",
    "        print(\"Hello my name is \" + harchibashe.name + \"and my age is \", harchibashe.age)\n",
    "        \n",
    "person1 = Person(\"hossein\", 23)\n",
    "person1.greeting()"
   ]
  },
  {
   "cell_type": "code",
   "execution_count": 21,
   "id": "ed23cf31-7bdb-47f0-91cd-01687fcdae56",
   "metadata": {},
   "outputs": [
    {
     "name": "stdout",
     "output_type": "stream",
     "text": [
      "Hello my name is hosseinand my age is  12\n"
     ]
    }
   ],
   "source": [
    "class Person:\n",
    "    def __init__(self, name, age):\n",
    "        self.name = name\n",
    "        self.age = age\n",
    "    def greeting(self):\n",
    "        print(\"Hello my name is \" + self.name + \"and my age is \", self.age)\n",
    "        \n",
    "person1 = Person(\"hossein\", 23)\n",
    "person1.age = 12\n",
    "person1.greeting()"
   ]
  },
  {
   "cell_type": "code",
   "execution_count": 23,
   "id": "da1733b7-99dd-4088-86cb-d7d52ceb2353",
   "metadata": {},
   "outputs": [
    {
     "ename": "AttributeError",
     "evalue": "'person' object has no attribute 'age'",
     "output_type": "error",
     "traceback": [
      "\u001b[1;31m---------------------------------------------------------------------------\u001b[0m",
      "\u001b[1;31mAttributeError\u001b[0m                            Traceback (most recent call last)",
      "Cell \u001b[1;32mIn[23], line 11\u001b[0m\n\u001b[0;32m      9\u001b[0m person1 \u001b[38;5;241m=\u001b[39m person(\u001b[38;5;124m\"\u001b[39m\u001b[38;5;124mhossein\u001b[39m\u001b[38;5;124m\"\u001b[39m, \u001b[38;5;241m23\u001b[39m)\n\u001b[0;32m     10\u001b[0m \u001b[38;5;28;01mdel\u001b[39;00m person1\u001b[38;5;241m.\u001b[39mage\n\u001b[1;32m---> 11\u001b[0m person1\u001b[38;5;241m.\u001b[39mgreeting()\n",
      "Cell \u001b[1;32mIn[23], line 8\u001b[0m, in \u001b[0;36mperson.greeting\u001b[1;34m(self)\u001b[0m\n\u001b[0;32m      7\u001b[0m \u001b[38;5;28;01mdef\u001b[39;00m \u001b[38;5;21mgreeting\u001b[39m(\u001b[38;5;28mself\u001b[39m):\n\u001b[1;32m----> 8\u001b[0m     \u001b[38;5;28mprint\u001b[39m(\u001b[38;5;124m\"\u001b[39m\u001b[38;5;124mHello my name is \u001b[39m\u001b[38;5;124m\"\u001b[39m \u001b[38;5;241m+\u001b[39m \u001b[38;5;28mself\u001b[39m\u001b[38;5;241m.\u001b[39mname \u001b[38;5;241m+\u001b[39m \u001b[38;5;124m\"\u001b[39m\u001b[38;5;124mand my age is \u001b[39m\u001b[38;5;124m\"\u001b[39m, \u001b[38;5;28mself\u001b[39m\u001b[38;5;241m.\u001b[39mage)\n",
      "\u001b[1;31mAttributeError\u001b[0m: 'person' object has no attribute 'age'"
     ]
    }
   ],
   "source": [
    "# Delete Object Properties\n",
    "\n",
    "class Person:\n",
    "    def __init__(self, name, age):\n",
    "        self.name = name\n",
    "        self.age = age\n",
    "    def greeting(self):\n",
    "        print(\"Hello my name is \" + self.name + \"and my age is \", self.age)\n",
    "        \n",
    "person1 = Person(\"hossein\", 23)\n",
    "del person1.age\n",
    "person1.greeting()\n",
    "\n",
    "# cause error because the age attribute is deleted"
   ]
  },
  {
   "cell_type": "code",
   "execution_count": 25,
   "id": "097808d4-26f7-4b06-8384-df7b552009a6",
   "metadata": {},
   "outputs": [
    {
     "ename": "NameError",
     "evalue": "name 'person1' is not defined",
     "output_type": "error",
     "traceback": [
      "\u001b[1;31m---------------------------------------------------------------------------\u001b[0m",
      "\u001b[1;31mNameError\u001b[0m                                 Traceback (most recent call last)",
      "Cell \u001b[1;32mIn[25], line 11\u001b[0m\n\u001b[0;32m      9\u001b[0m person1 \u001b[38;5;241m=\u001b[39m person(\u001b[38;5;124m\"\u001b[39m\u001b[38;5;124mhossein\u001b[39m\u001b[38;5;124m\"\u001b[39m, \u001b[38;5;241m23\u001b[39m)\n\u001b[0;32m     10\u001b[0m \u001b[38;5;28;01mdel\u001b[39;00m person1\n\u001b[1;32m---> 11\u001b[0m \u001b[38;5;28mprint\u001b[39m(person1)\n",
      "\u001b[1;31mNameError\u001b[0m: name 'person1' is not defined"
     ]
    }
   ],
   "source": [
    "# Delete Objects\n",
    "\n",
    "class Person:\n",
    "    def __init__(self, name, age):\n",
    "        self.name = name\n",
    "        self.age = age\n",
    "    def greeting(self):\n",
    "        print(\"Hello my name is \" + self.name + \"and my age is \", self.age)\n",
    "        \n",
    "person1 = Person(\"hossein\", 23)\n",
    "del person1\n",
    "print(person1)\n",
    "\n",
    "# cause error because the person1 object is deleted"
   ]
  },
  {
   "cell_type": "code",
   "execution_count": 26,
   "id": "28ea96a2-b52d-49ed-a0e4-c90508659c27",
   "metadata": {},
   "outputs": [],
   "source": [
    "# The pass Statement\n",
    "\n",
    "# class definitions cannot be empty, but if you for some reason have a class definition with no content, put in the pass statement to avoid getting an error.\n",
    "\n",
    "class Person:\n",
    "    pass"
   ]
  },
  {
   "cell_type": "code",
   "execution_count": 27,
   "id": "2287a0b9-8e25-4517-82c9-b1060f7769d1",
   "metadata": {},
   "outputs": [],
   "source": [
    "# Inheritance"
   ]
  },
  {
   "cell_type": "code",
   "execution_count": 16,
   "id": "e0e54d1a-74d9-444b-85d1-29d6ec487575",
   "metadata": {},
   "outputs": [
    {
     "name": "stdout",
     "output_type": "stream",
     "text": [
      "hossein mollamohammadi\n"
     ]
    }
   ],
   "source": [
    "class Name:\n",
    "    def __init__(self, fname, lname):\n",
    "        self.firstName = fname\n",
    "        self.lastName = lname\n",
    "    def printer(self):\n",
    "        print(self.firstName + self.lastName)\n",
    "        \n",
    "person1 = Name(\"hossein \",\"mollamohammadi\")\n",
    "person1.printer()"
   ]
  },
  {
   "cell_type": "code",
   "execution_count": 17,
   "id": "b07b008b-0f5e-44c3-9541-c8c3caa72cb2",
   "metadata": {},
   "outputs": [
    {
     "name": "stdout",
     "output_type": "stream",
     "text": [
      "omid jahan\n"
     ]
    }
   ],
   "source": [
    "# Child Class\n",
    "\n",
    "class Name:\n",
    "    def __init__(self, fname, lname):\n",
    "        self.firstName = fname\n",
    "        self.lastName = lname\n",
    "    def printer(self):\n",
    "        print(self.firstName + self.lastName)\n",
    "        \n",
    "class NewClass(Name):\n",
    "    pass\n",
    "person1 = NewClass(\"omid\", \" jahan\")\n",
    "person1.printer()"
   ]
  },
  {
   "cell_type": "code",
   "execution_count": 18,
   "id": "e333c3c7-9492-4748-a82e-861c06e4a4c5",
   "metadata": {},
   "outputs": [
    {
     "name": "stdout",
     "output_type": "stream",
     "text": [
      "hadi saei\n"
     ]
    }
   ],
   "source": [
    "# __init__() function\n",
    "\n",
    "class Name:\n",
    "    def __init__(self, fname, lname):\n",
    "        self.firstName = fname\n",
    "        self.lastName = lname\n",
    "    def printer(self):\n",
    "        print(self.firstName + self.lastName)\n",
    "class NewClass(Name):\n",
    "    def __init__(self, fname, lname):\n",
    "        self.firstName = fname\n",
    "        self.lastName = lname\n",
    "        \n",
    "person1 = NewClass(\"hadi\", \" saei\")\n",
    "print(person1.firstName + person1.lastName)\n",
    "\n",
    "# The child's __init__() function overrides the inheritance of the parent's __init__() function."
   ]
  },
  {
   "cell_type": "code",
   "execution_count": 38,
   "id": "99027b2b-56fd-4e3c-9163-1d0d182b2ab9",
   "metadata": {},
   "outputs": [
    {
     "name": "stdout",
     "output_type": "stream",
     "text": [
      "farhad majidi\n"
     ]
    }
   ],
   "source": [
    "# To keep the inheritance of the parent's __init__() function, add a call to the parent's __init__() function:\n",
    "\n",
    "class Name:\n",
    "    def __init__(self, fname, lname):\n",
    "        self.firstName = fname\n",
    "        self.lastName = lname\n",
    "    def printer(self):\n",
    "        print(self.firstName + self.lastName)\n",
    "\n",
    "class NewClass(Name):\n",
    "    def __init__(self, fname, lname):\n",
    "        name.__init__(self, fname, lname)\n",
    "\n",
    "person1 = NewClass(\"farhad \", \"majidi\")\n",
    "person1.printer()"
   ]
  },
  {
   "cell_type": "code",
   "execution_count": 39,
   "id": "b8750ac3-7841-4920-9f00-95ecefd859c5",
   "metadata": {},
   "outputs": [],
   "source": [
    "# super()\n",
    "\n",
    "# Python also has a super() function that will make the child class inherit all the methods and properties from its parent:"
   ]
  },
  {
   "cell_type": "code",
   "execution_count": 41,
   "id": "524851ba-289b-4e00-87c6-56b21d5b4e20",
   "metadata": {},
   "outputs": [
    {
     "name": "stdout",
     "output_type": "stream",
     "text": [
      "farhad majidi\n"
     ]
    }
   ],
   "source": [
    "class Name:\n",
    "    def __init__(self, fname, lname):\n",
    "        self.firstName = fname\n",
    "        self.lastName = lname\n",
    "    def printer(self):\n",
    "        print(self.firstName + self.lastName)\n",
    "\n",
    "class NewClass(Name):\n",
    "    def __init__(self, fname, lname):\n",
    "        super().__init__(fname, lname)\n",
    "\n",
    "person1 = NewClass(\"farhad \", \"majidi\")\n",
    "person1.printer()"
   ]
  },
  {
   "cell_type": "code",
   "execution_count": 20,
   "id": "fa5a00fd-f023-4df0-9c75-39418aac2f3f",
   "metadata": {},
   "outputs": [
    {
     "name": "stdout",
     "output_type": "stream",
     "text": [
      "23\n"
     ]
    }
   ],
   "source": [
    "class Name:\n",
    "    def __init__(self, fname, lname):\n",
    "        self.firstName = fname\n",
    "        self.lastName = lname\n",
    "    def printer(self):\n",
    "        print(self.firstName + self.lastName)\n",
    "\n",
    "class NewClass(Name):\n",
    "    def __init__(self, fname, lname):\n",
    "        super().__init__(fname, lname)\n",
    "        self.age = 23\n",
    "\n",
    "person1 = NewClass(\"farhad \", \"majidi\")\n",
    "print(person1.age)"
   ]
  },
  {
   "cell_type": "code",
   "execution_count": 21,
   "id": "21c9d052-8e49-4602-bd9f-c7992419dbe3",
   "metadata": {},
   "outputs": [
    {
     "name": "stdout",
     "output_type": "stream",
     "text": [
      "23\n"
     ]
    }
   ],
   "source": [
    "class Name:\n",
    "    def __init__(self, fname, lname):\n",
    "        self.firstName = fname\n",
    "        self.lastName = lname\n",
    "    def printer(self):\n",
    "        print(self.firstName + self.lastName)\n",
    "\n",
    "class NewClass(Name):\n",
    "    def __init__(self, fname, lname, age):\n",
    "        super().__init__(fname, lname)\n",
    "        self.age = age\n",
    "\n",
    "person1 = NewClass(\"farhad \", \"majidi\", 23)\n",
    "print(person1.age)"
   ]
  },
  {
   "cell_type": "code",
   "execution_count": 22,
   "id": "d5fd62ce-0020-4060-9582-57b5050a01e0",
   "metadata": {},
   "outputs": [
    {
     "name": "stdout",
     "output_type": "stream",
     "text": [
      "my name is  farhad  majidi  and the age is  44\n"
     ]
    }
   ],
   "source": [
    "class Name:\n",
    "    def __init__(self, fname, lname):\n",
    "        self.firstName = fname\n",
    "        self.lastName = lname\n",
    "    def printer(self):\n",
    "        print(self.firstName + self.lastName)\n",
    "\n",
    "class NewClass(Name):\n",
    "    def __init__(self, fname, lname, age):\n",
    "        super().__init__(fname, lname)\n",
    "        self.age = age\n",
    "    def greeting(self):\n",
    "        print(\"my name is \", self.firstName, self.lastName, \" and the age is \", self.age)\n",
    "\n",
    "person1 = NewClass(\"farhad \", \"majidi\", 44)\n",
    "person1.greeting()"
   ]
  },
  {
   "cell_type": "code",
   "execution_count": 1,
   "id": "701247a6-272e-4851-af66-fb6ce3319c4f",
   "metadata": {},
   "outputs": [],
   "source": [
    "# Iterators"
   ]
  },
  {
   "cell_type": "code",
   "execution_count": 3,
   "id": "9ca8d3ed-0b69-4ae5-8df0-0d49c26aa112",
   "metadata": {},
   "outputs": [
    {
     "name": "stdout",
     "output_type": "stream",
     "text": [
      "hossein\n",
      "ahmad\n",
      "mohsen\n"
     ]
    }
   ],
   "source": [
    "names = (\"hossein\", \"ahmad\", \"mohsen\")\n",
    "myIterator = iter(names)\n",
    "\n",
    "print(next(myIterator))\n",
    "print(next(myIterator))\n",
    "print(next(myIterator))"
   ]
  },
  {
   "cell_type": "code",
   "execution_count": 4,
   "id": "bd71d31b-0aa8-455b-909f-f25116d92893",
   "metadata": {},
   "outputs": [
    {
     "name": "stdout",
     "output_type": "stream",
     "text": [
      "h\n",
      "o\n",
      "s\n",
      "s\n",
      "e\n",
      "i\n",
      "n\n"
     ]
    }
   ],
   "source": [
    "# Even strings are iterable objects, and can return an iterator\n",
    "\n",
    "myString = \"hossein\"\n",
    "myIterator = iter(myString)\n",
    "\n",
    "print(next(myIterator))\n",
    "print(next(myIterator))\n",
    "print(next(myIterator))\n",
    "print(next(myIterator))\n",
    "print(next(myIterator))\n",
    "print(next(myIterator))\n",
    "print(next(myIterator))"
   ]
  },
  {
   "cell_type": "code",
   "execution_count": 5,
   "id": "698d1733-6c10-43d6-a9c3-324d363157a2",
   "metadata": {},
   "outputs": [
    {
     "name": "stdout",
     "output_type": "stream",
     "text": [
      "hossein\n",
      "ahmad\n",
      "shahin\n"
     ]
    }
   ],
   "source": [
    "names = (\"hossein\", \"ahmad\", \"shahin\")\n",
    "\n",
    "for name in names:\n",
    "    print(name)"
   ]
  },
  {
   "cell_type": "code",
   "execution_count": 8,
   "id": "2b669680-67ba-4444-96bc-2c2417bc3365",
   "metadata": {},
   "outputs": [
    {
     "name": "stdout",
     "output_type": "stream",
     "text": [
      "h\n",
      "o\n",
      "s\n",
      "s\n",
      "e\n",
      "i\n",
      "n\n"
     ]
    }
   ],
   "source": [
    "name = \"hossein\"\n",
    "\n",
    "for letter in name:\n",
    "    print(letter)\n",
    "\n",
    "# The for loop actually creates an iterator object and executes the next() method for each loop."
   ]
  },
  {
   "cell_type": "code",
   "execution_count": 23,
   "id": "db436f32-5fcf-4123-9796-25a6581331d9",
   "metadata": {},
   "outputs": [
    {
     "name": "stdout",
     "output_type": "stream",
     "text": [
      "1\n",
      "2\n",
      "3\n"
     ]
    }
   ],
   "source": [
    "# Create an Iterator\n",
    "\n",
    "class Numbers :\n",
    "    def __iter__(self):\n",
    "        self.a = 1\n",
    "        return self\n",
    "    def __next__(self):\n",
    "        x = self.a\n",
    "        self.a += 1\n",
    "        return x\n",
    "\n",
    "myClass = Numbers()\n",
    "myIter = iter(myClass)\n",
    "\n",
    "print(next(myIter))\n",
    "print(next(myIter))\n",
    "print(next(myIter))"
   ]
  },
  {
   "cell_type": "code",
   "execution_count": 24,
   "id": "489454ee-92f9-4bf8-899a-950abcd6341e",
   "metadata": {},
   "outputs": [
    {
     "name": "stdout",
     "output_type": "stream",
     "text": [
      "1\n",
      "2\n",
      "3\n",
      "4\n",
      "5\n"
     ]
    }
   ],
   "source": [
    "class Numbers :\n",
    "    def __iter__(self):\n",
    "        self.a = 1\n",
    "        return self\n",
    "    def __next__(self):\n",
    "        if self.a < 6:\n",
    "            x = self.a\n",
    "            self.a += 1\n",
    "            return x\n",
    "        else:\n",
    "            raise StopIteration\n",
    "\n",
    "myClass = Numbers()\n",
    "myIter = iter(myClass)\n",
    "\n",
    "for item in myIter:\n",
    "    print(item)"
   ]
  }
 ],
 "metadata": {
  "kernelspec": {
   "display_name": "Python 3 (ipykernel)",
   "language": "python",
   "name": "python3"
  },
  "language_info": {
   "codemirror_mode": {
    "name": "ipython",
    "version": 3
   },
   "file_extension": ".py",
   "mimetype": "text/x-python",
   "name": "python",
   "nbconvert_exporter": "python",
   "pygments_lexer": "ipython3",
   "version": "3.11.7"
  }
 },
 "nbformat": 4,
 "nbformat_minor": 5
}
