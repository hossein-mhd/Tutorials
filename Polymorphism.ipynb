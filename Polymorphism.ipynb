{
 "cells": [
  {
   "cell_type": "code",
   "execution_count": 1,
   "id": "51993fa6-4587-463c-9d2e-02d4d4286b84",
   "metadata": {},
   "outputs": [],
   "source": [
    "# The word \"polymorphism\" means \"many forms\", and in programming it refers to methods/functions/operators \n",
    "# with the same name that can be executed on many objects or classes."
   ]
  },
  {
   "cell_type": "code",
   "execution_count": 2,
   "id": "aa811961-1689-41f0-84bf-0826ea65493d",
   "metadata": {},
   "outputs": [
    {
     "name": "stdout",
     "output_type": "stream",
     "text": [
      "7\n"
     ]
    }
   ],
   "source": [
    "name = \"hossein\"\n",
    "\n",
    "print(len(name))"
   ]
  },
  {
   "cell_type": "code",
   "execution_count": 3,
   "id": "6979c6e8-379d-49a9-9052-47d59dfb3c80",
   "metadata": {},
   "outputs": [
    {
     "name": "stdout",
     "output_type": "stream",
     "text": [
      "3\n"
     ]
    }
   ],
   "source": [
    "myTupple = (\"hossein\", \"mohsen\", \"sara\")\n",
    "\n",
    "print(len(myTupple))"
   ]
  },
  {
   "cell_type": "code",
   "execution_count": 5,
   "id": "4acf1550-95b1-407d-92a0-ca3d6dc4b689",
   "metadata": {},
   "outputs": [
    {
     "name": "stdout",
     "output_type": "stream",
     "text": [
      "2\n"
     ]
    }
   ],
   "source": [
    "costumer = {\n",
    "    \"name\" : \"hossein\",\n",
    "    \"age\" : 23,\n",
    "}\n",
    "\n",
    "print(len(costumer))\n"
   ]
  },
  {
   "cell_type": "code",
   "execution_count": 6,
   "id": "4f3a07ca-54da-490b-b8ba-757b17ac5846",
   "metadata": {},
   "outputs": [
    {
     "name": "stdout",
     "output_type": "stream",
     "text": [
      "drive!!\n",
      "sail!!\n",
      "fly!!\n"
     ]
    }
   ],
   "source": [
    "# Class Polymorphism\n",
    "\n",
    "class Cars:\n",
    "    def __init__(self, brand, model):\n",
    "        self.brand = brand\n",
    "        self.model = model\n",
    "    def moving(self):\n",
    "        print(\"drive!!\")\n",
    "        \n",
    "class Boats:\n",
    "    def __init__(self, brand, model):\n",
    "        self.brand = brand\n",
    "        self.model = model\n",
    "    def moving(self):\n",
    "        print(\"sail!!\")\n",
    "\n",
    "class Planes:\n",
    "    def __init__(self, brand, model):\n",
    "        self.brand = brand\n",
    "        self.model = model\n",
    "    def moving(self):\n",
    "        print(\"fly!!\")\n",
    "\n",
    "car = Cars(\"benz\", \"sls\")\n",
    "boat = Boats(\"ibiza\", \"touring\")\n",
    "plane = Planes(\"boeing\", \"747\")\n",
    "\n",
    "for item in (car, boat, plane):\n",
    "    item.moving()\n",
    "\n",
    "# Look at the for loop at the end. Because of polymorphism we can execute the same method for all three classes.\n"
   ]
  },
  {
   "cell_type": "code",
   "execution_count": 7,
   "id": "ea08bc92-cc30-4c03-96fe-2da649f16c36",
   "metadata": {},
   "outputs": [
    {
     "name": "stdout",
     "output_type": "stream",
     "text": [
      "Ford\n",
      "Mustang\n",
      "Move!\n",
      "Ibiza\n",
      "Touring 20\n",
      "Sail!\n",
      "Boeing\n",
      "747\n",
      "Fly!\n"
     ]
    }
   ],
   "source": [
    "class Vehicle:\n",
    "  def __init__(self, brand, model):\n",
    "    self.brand = brand\n",
    "    self.model = model\n",
    "\n",
    "  def move(self):\n",
    "    print(\"Move!\")\n",
    "\n",
    "class Car(Vehicle):\n",
    "  pass\n",
    "\n",
    "class Boat(Vehicle):\n",
    "  def move(self):\n",
    "    print(\"Sail!\")\n",
    "\n",
    "class Plane(Vehicle):\n",
    "  def move(self):\n",
    "    print(\"Fly!\")\n",
    "\n",
    "car1 = Car(\"Ford\", \"Mustang\") #Create a Car object\n",
    "boat1 = Boat(\"Ibiza\", \"Touring 20\") #Create a Boat object\n",
    "plane1 = Plane(\"Boeing\", \"747\") #Create a Plane object\n",
    "\n",
    "for x in (car1, boat1, plane1):\n",
    "  print(x.brand)\n",
    "  print(x.model)\n",
    "  x.move()"
   ]
  },
  {
   "cell_type": "code",
   "execution_count": null,
   "id": "d5700dd0-6763-4fac-b019-716d842a9cac",
   "metadata": {},
   "outputs": [],
   "source": []
  }
 ],
 "metadata": {
  "kernelspec": {
   "display_name": "Python 3 (ipykernel)",
   "language": "python",
   "name": "python3"
  },
  "language_info": {
   "codemirror_mode": {
    "name": "ipython",
    "version": 3
   },
   "file_extension": ".py",
   "mimetype": "text/x-python",
   "name": "python",
   "nbconvert_exporter": "python",
   "pygments_lexer": "ipython3",
   "version": "3.11.7"
  }
 },
 "nbformat": 4,
 "nbformat_minor": 5
}
