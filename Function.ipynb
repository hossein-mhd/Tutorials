{
 "cells": [
  {
   "cell_type": "code",
   "execution_count": 1,
   "id": "0c886ce2-3da5-442e-aac1-4b7a4454b69f",
   "metadata": {},
   "outputs": [
    {
     "name": "stdout",
     "output_type": "stream",
     "text": [
      "siuuuuuuuuuuuuuu\n"
     ]
    }
   ],
   "source": [
    "def printer():\n",
    "    print(\"siuuuuuuuuuuuuuu\")\n",
    "printer()"
   ]
  },
  {
   "cell_type": "code",
   "execution_count": 5,
   "id": "f25a63e5-1b6c-47ac-8a22-b28ca795926b",
   "metadata": {},
   "outputs": [
    {
     "name": "stdout",
     "output_type": "stream",
     "text": [
      "hossein is a programmar.\n",
      "hamid is a programmar.\n",
      "araz is a programmar.\n"
     ]
    }
   ],
   "source": [
    "def names(name):\n",
    "    print(name + \" is a programmar.\")\n",
    "names(\"hossein\")\n",
    "names(\"hamid\")\n",
    "names(\"araz\")"
   ]
  },
  {
   "cell_type": "markdown",
   "id": "25db267d-e1eb-4ced-8785-7b3d16c762c4",
   "metadata": {},
   "source": [
    "Parameters or Arguments:\n",
    "A parameter is the \"variable\" listed inside the parentheses in the function definition.\n",
    "An argument is the \"value\" that is sent to the function when it is called."
   ]
  },
  {
   "cell_type": "code",
   "execution_count": 6,
   "id": "49158829-5c7c-41e9-b4ae-329efc4dda2b",
   "metadata": {},
   "outputs": [
    {
     "name": "stdout",
     "output_type": "stream",
     "text": [
      "hossin mollamohammadi\n"
     ]
    }
   ],
   "source": [
    "def person(fName, lName): #parameters\n",
    "    print(fName, lName)\n",
    "person(\"hossin\", \"mollamohammadi\")  # arguments"
   ]
  },
  {
   "cell_type": "code",
   "execution_count": 7,
   "id": "31979e80-e4e7-4295-afc3-4e012dd69235",
   "metadata": {},
   "outputs": [],
   "source": [
    "# Arbitrary Arguments, *args"
   ]
  },
  {
   "cell_type": "code",
   "execution_count": 10,
   "id": "f94f6629-8e5b-4aa2-85b2-aa6959f71046",
   "metadata": {},
   "outputs": [
    {
     "name": "stdout",
     "output_type": "stream",
     "text": [
      "my name is  ('hossein', 'ali', 'ahmad')\n",
      "my name is  ahmad\n"
     ]
    }
   ],
   "source": [
    "def person(*names):\n",
    "    print(\"my name is \", names)\n",
    "    print(\"my name is \", names[2])\n",
    "person(\"hossein\", \"ali\", \"ahmad\")"
   ]
  },
  {
   "cell_type": "code",
   "execution_count": 13,
   "id": "70a451d9-ed5e-450a-8213-4c4c131fb3b6",
   "metadata": {},
   "outputs": [
    {
     "name": "stdout",
     "output_type": "stream",
     "text": [
      "my name is  ali\n"
     ]
    }
   ],
   "source": [
    "def person(names, names2):\n",
    "    print(\"my name is \", names)\n",
    "person(names2 = \"hossein\",names = \"ali\")"
   ]
  },
  {
   "cell_type": "code",
   "execution_count": 17,
   "id": "f38ad1ad-6429-4f93-945a-49e3b2841189",
   "metadata": {},
   "outputs": [
    {
     "name": "stdout",
     "output_type": "stream",
     "text": [
      "my name is  hossein\n"
     ]
    }
   ],
   "source": [
    "def person(**name):\n",
    "    print(\"my name is \", name[\"firstName\"])\n",
    "person(firstName = \"hossein\",lastName = \"alizade\")"
   ]
  },
  {
   "cell_type": "code",
   "execution_count": 18,
   "id": "a7a3d216-d9ff-4538-b85a-167b6051f6ca",
   "metadata": {},
   "outputs": [
    {
     "name": "stdout",
     "output_type": "stream",
     "text": [
      "my name is  hamid\n",
      "my name is  hossein\n",
      "my name is  akbar\n",
      "my name is  arash\n"
     ]
    }
   ],
   "source": [
    "def names(name = \"hossein\"):\n",
    "    print(\"my name is \", name)\n",
    "names(\"hamid\")\n",
    "names()\n",
    "names(\"akbar\")\n",
    "names(\"arash\")"
   ]
  },
  {
   "cell_type": "code",
   "execution_count": 21,
   "id": "57c972aa-583f-40db-9967-24db975b4172",
   "metadata": {},
   "outputs": [
    {
     "name": "stdout",
     "output_type": "stream",
     "text": [
      "The names are ['hossein', 'hamid', 'hasan']\n"
     ]
    }
   ],
   "source": [
    "def names(name):\n",
    "    print(\"The names are\", name)\n",
    "nameList = [\"hossein\", \"hamid\", \"hasan\"]\n",
    "names(nameList)"
   ]
  },
  {
   "cell_type": "code",
   "execution_count": 23,
   "id": "2d2f7e53-2dc6-4247-b6d2-6be1259bf390",
   "metadata": {},
   "outputs": [
    {
     "name": "stdout",
     "output_type": "stream",
     "text": [
      "15\n"
     ]
    },
    {
     "data": {
      "text/plain": [
       "15"
      ]
     },
     "execution_count": 23,
     "metadata": {},
     "output_type": "execute_result"
    }
   ],
   "source": [
    "def number(x):\n",
    "    return 5 * x\n",
    "    \n",
    "print(number(3))\n",
    "number(3)"
   ]
  },
  {
   "cell_type": "code",
   "execution_count": 24,
   "id": "c36576d9-65df-4007-b811-337519774250",
   "metadata": {},
   "outputs": [],
   "source": [
    "def myFunction():\n",
    "    pass"
   ]
  },
  {
   "cell_type": "markdown",
   "id": "5bb362d0-5d33-433d-8db8-8c41a411e16c",
   "metadata": {},
   "source": [
    "Positional-Only Arguments\n",
    "\n",
    "You can specify that a function can have ONLY positional arguments, or ONLY keyword arguments.\n",
    "To specify that a function can have only positional arguments, add \", /\" after the arguments:"
   ]
  },
  {
   "cell_type": "code",
   "execution_count": 25,
   "id": "18ee703b-9296-4128-92c0-3fb32b7f56b7",
   "metadata": {},
   "outputs": [
    {
     "name": "stdout",
     "output_type": "stream",
     "text": [
      "hossein\n"
     ]
    }
   ],
   "source": [
    "def names(name, /):\n",
    "    print(name)\n",
    "names(\"hossein\")"
   ]
  },
  {
   "cell_type": "code",
   "execution_count": 26,
   "id": "a56cde72-66e2-4127-ae09-9092901af707",
   "metadata": {},
   "outputs": [
    {
     "name": "stdout",
     "output_type": "stream",
     "text": [
      "hossein\n"
     ]
    }
   ],
   "source": [
    "# Without the , / you are actually allowed to use keyword arguments even if the function expects positional arguments:\n",
    "\n",
    "def names(name):\n",
    "    print(name)\n",
    "names(name = \"hossein\")"
   ]
  },
  {
   "cell_type": "code",
   "execution_count": 27,
   "id": "fc968a99-6cc0-4da0-9717-cdb2a93f379e",
   "metadata": {},
   "outputs": [
    {
     "ename": "TypeError",
     "evalue": "names() got some positional-only arguments passed as keyword arguments: 'name'",
     "output_type": "error",
     "traceback": [
      "\u001b[1;31m---------------------------------------------------------------------------\u001b[0m",
      "\u001b[1;31mTypeError\u001b[0m                                 Traceback (most recent call last)",
      "Cell \u001b[1;32mIn[27], line 5\u001b[0m\n\u001b[0;32m      3\u001b[0m \u001b[38;5;28;01mdef\u001b[39;00m \u001b[38;5;21mnames\u001b[39m(name, \u001b[38;5;241m/\u001b[39m):\n\u001b[0;32m      4\u001b[0m     \u001b[38;5;28mprint\u001b[39m(name)\n\u001b[1;32m----> 5\u001b[0m names(name \u001b[38;5;241m=\u001b[39m \u001b[38;5;124m\"\u001b[39m\u001b[38;5;124mhossein\u001b[39m\u001b[38;5;124m\"\u001b[39m)\n",
      "\u001b[1;31mTypeError\u001b[0m: names() got some positional-only arguments passed as keyword arguments: 'name'"
     ]
    }
   ],
   "source": [
    "# But when adding the , / you will get an error if you try to send a keyword argument:\n",
    "\n",
    "def names(name, /):\n",
    "    print(name)\n",
    "names(name = \"hossein\")"
   ]
  },
  {
   "cell_type": "code",
   "execution_count": 28,
   "id": "eb917320-bb52-439e-a558-d4f82b139449",
   "metadata": {},
   "outputs": [],
   "source": [
    "# Keyword-Only Arguments"
   ]
  },
  {
   "cell_type": "code",
   "execution_count": 29,
   "id": "00156942-af2f-44c9-912c-c6e5297a42cf",
   "metadata": {},
   "outputs": [
    {
     "name": "stdout",
     "output_type": "stream",
     "text": [
      "hossein\n"
     ]
    }
   ],
   "source": [
    "def names(*, name):\n",
    "    print(name)\n",
    "names(name = \"hossein\")"
   ]
  },
  {
   "cell_type": "code",
   "execution_count": 30,
   "id": "18948d43-9132-48ae-9821-81bdddd43d5c",
   "metadata": {},
   "outputs": [
    {
     "name": "stdout",
     "output_type": "stream",
     "text": [
      "hossein\n"
     ]
    }
   ],
   "source": [
    "# Without the *, you are allowed to use positionale arguments even if the function expects keyword arguments:\n",
    "\n",
    "def names(name):\n",
    "    print(name)\n",
    "names(\"hossein\")"
   ]
  },
  {
   "cell_type": "code",
   "execution_count": 31,
   "id": "e448a3e7-892f-4e02-8de6-e5963c80ee9e",
   "metadata": {},
   "outputs": [
    {
     "ename": "TypeError",
     "evalue": "names() takes 0 positional arguments but 1 was given",
     "output_type": "error",
     "traceback": [
      "\u001b[1;31m---------------------------------------------------------------------------\u001b[0m",
      "\u001b[1;31mTypeError\u001b[0m                                 Traceback (most recent call last)",
      "Cell \u001b[1;32mIn[31], line 5\u001b[0m\n\u001b[0;32m      3\u001b[0m \u001b[38;5;28;01mdef\u001b[39;00m \u001b[38;5;21mnames\u001b[39m(\u001b[38;5;241m*\u001b[39m, name):\n\u001b[0;32m      4\u001b[0m     \u001b[38;5;28mprint\u001b[39m(name)\n\u001b[1;32m----> 5\u001b[0m names(\u001b[38;5;124m\"\u001b[39m\u001b[38;5;124mhossein\u001b[39m\u001b[38;5;124m\"\u001b[39m)\n",
      "\u001b[1;31mTypeError\u001b[0m: names() takes 0 positional arguments but 1 was given"
     ]
    }
   ],
   "source": [
    "# But when adding the *, / you will get an error if you try to send a positional argument:\n",
    "\n",
    "def names(*, name):\n",
    "    print(name)\n",
    "names(\"hossein\")"
   ]
  },
  {
   "cell_type": "markdown",
   "id": "f7eda52e-e7de-4c55-a475-aa204cbaad8a",
   "metadata": {},
   "source": [
    "Combine Positional-Only and Keyword-Only\n",
    "\n",
    "You can combine the two argument types in the same function.\n",
    "Any argument before the / , are positional-only, and any argument after the *, are keyword-only."
   ]
  },
  {
   "cell_type": "code",
   "execution_count": 32,
   "id": "53353147-ad90-4c66-83fe-91ea2bdfa7d0",
   "metadata": {},
   "outputs": [
    {
     "name": "stdout",
     "output_type": "stream",
     "text": [
      "hossein ali soroush mohammad\n"
     ]
    }
   ],
   "source": [
    "def names(a, b, /, * , c, d):\n",
    "    print(a, b, c, d)\n",
    "names(\"hossein\",\"ali\",c = \"soroush\", d = \"mohammad\")"
   ]
  },
  {
   "cell_type": "code",
   "execution_count": 33,
   "id": "795ad2ff-7a83-440d-a85c-e4e5fd3c552a",
   "metadata": {},
   "outputs": [],
   "source": [
    "# Recursion"
   ]
  },
  {
   "cell_type": "code",
   "execution_count": 34,
   "id": "82828ab8-f241-43e0-b7c8-eb9b6c3fe1e1",
   "metadata": {},
   "outputs": [
    {
     "name": "stdout",
     "output_type": "stream",
     "text": [
      "\n",
      "\n",
      "Recursion Example Results\n",
      "1\n",
      "3\n",
      "6\n",
      "10\n",
      "15\n",
      "21\n"
     ]
    },
    {
     "data": {
      "text/plain": [
       "21"
      ]
     },
     "execution_count": 34,
     "metadata": {},
     "output_type": "execute_result"
    }
   ],
   "source": [
    "def tri_recursion(k):\n",
    "  if(k > 0):\n",
    "    result = k + tri_recursion(k - 1)\n",
    "    print(result)\n",
    "  else:\n",
    "    result = 0\n",
    "  return result\n",
    "\n",
    "print(\"\\n\\nRecursion Example Results\")\n",
    "tri_recursion(6)\n"
   ]
  },
  {
   "cell_type": "code",
   "execution_count": null,
   "id": "03f55c81-53b9-4540-8b3d-86096f547a99",
   "metadata": {},
   "outputs": [],
   "source": []
  }
 ],
 "metadata": {
  "kernelspec": {
   "display_name": "Python 3 (ipykernel)",
   "language": "python",
   "name": "python3"
  },
  "language_info": {
   "codemirror_mode": {
    "name": "ipython",
    "version": 3
   },
   "file_extension": ".py",
   "mimetype": "text/x-python",
   "name": "python",
   "nbconvert_exporter": "python",
   "pygments_lexer": "ipython3",
   "version": "3.11.7"
  }
 },
 "nbformat": 4,
 "nbformat_minor": 5
}
