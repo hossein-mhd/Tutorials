{
 "cells": [
  {
   "cell_type": "code",
   "execution_count": 2,
   "id": "40a037fc-6177-4faf-bd35-0f6064bea4a0",
   "metadata": {},
   "outputs": [
    {
     "name": "stdout",
     "output_type": "stream",
     "text": [
      "hossein\n"
     ]
    }
   ],
   "source": [
    "# Local Scope\n",
    "\n",
    "def names():\n",
    "    name1 = \"hossein\"\n",
    "    print(name1)\n",
    "\n",
    "names()"
   ]
  },
  {
   "cell_type": "code",
   "execution_count": 4,
   "id": "eb513dd0-b2e3-4cff-8787-32653eb0d715",
   "metadata": {},
   "outputs": [
    {
     "name": "stdout",
     "output_type": "stream",
     "text": [
      "hossein\n"
     ]
    }
   ],
   "source": [
    "def names():\n",
    "    name = \"hossein\"\n",
    "    def innerFunc():\n",
    "        print(name)\n",
    "    innerFunc()\n",
    "\n",
    "names()"
   ]
  },
  {
   "cell_type": "code",
   "execution_count": 5,
   "id": "63d9bd01-063d-423e-971a-da4d12d8b333",
   "metadata": {},
   "outputs": [
    {
     "name": "stdout",
     "output_type": "stream",
     "text": [
      "hossein\n"
     ]
    }
   ],
   "source": [
    "# Global Scope\n",
    "# Global variables are available from within any scope, global and local.\n",
    "\n",
    "name = \"hossein\"\n",
    "\n",
    "def names():\n",
    "    print(name)\n",
    "\n",
    "names()"
   ]
  },
  {
   "cell_type": "code",
   "execution_count": 6,
   "id": "43831398-eefc-42ff-93b3-a21e310668e5",
   "metadata": {},
   "outputs": [
    {
     "name": "stdout",
     "output_type": "stream",
     "text": [
      "asghar\n"
     ]
    }
   ],
   "source": [
    "name = \"hossein\"\n",
    "\n",
    "def names():\n",
    "    name = \"asghar\"\n",
    "    print(name)\n",
    "\n",
    "names()"
   ]
  },
  {
   "cell_type": "code",
   "execution_count": 7,
   "id": "18e849fa-b86a-412e-b414-20c8ad74607e",
   "metadata": {},
   "outputs": [
    {
     "name": "stdout",
     "output_type": "stream",
     "text": [
      "asghar\n"
     ]
    }
   ],
   "source": [
    "# Global Keyword\n",
    "\n",
    "def names():\n",
    "    global name\n",
    "    name = \"asghar\"\n",
    "    print(name)\n",
    "\n",
    "names()"
   ]
  },
  {
   "cell_type": "code",
   "execution_count": 8,
   "id": "9bd7b11d-f828-440e-beb3-b7f541874213",
   "metadata": {},
   "outputs": [
    {
     "name": "stdout",
     "output_type": "stream",
     "text": [
      "asghar\n"
     ]
    }
   ],
   "source": [
    "name = \"hossein\"\n",
    "\n",
    "def names():\n",
    "    global name\n",
    "    name = \"asghar\"\n",
    "    print(name)\n",
    "\n",
    "names()"
   ]
  },
  {
   "cell_type": "code",
   "execution_count": 11,
   "id": "ea0b8c41-05a9-4d15-ad7c-ff80213aa2d3",
   "metadata": {},
   "outputs": [
    {
     "data": {
      "text/plain": [
       "'asghar'"
      ]
     },
     "execution_count": 11,
     "metadata": {},
     "output_type": "execute_result"
    }
   ],
   "source": [
    "# Nonlocal Keyword\n",
    "\n",
    "def names():\n",
    "    name = \"asghar\"\n",
    "    def inner():\n",
    "        nonlocal name\n",
    "        name = \"hossien\"\n",
    "    return name\n",
    "\n",
    "names()"
   ]
  },
  {
   "cell_type": "code",
   "execution_count": null,
   "id": "a2c74870-9d19-40f1-bd51-232a2c7e5471",
   "metadata": {},
   "outputs": [],
   "source": []
  }
 ],
 "metadata": {
  "kernelspec": {
   "display_name": "Python 3 (ipykernel)",
   "language": "python",
   "name": "python3"
  },
  "language_info": {
   "codemirror_mode": {
    "name": "ipython",
    "version": 3
   },
   "file_extension": ".py",
   "mimetype": "text/x-python",
   "name": "python",
   "nbconvert_exporter": "python",
   "pygments_lexer": "ipython3",
   "version": "3.11.7"
  }
 },
 "nbformat": 4,
 "nbformat_minor": 5
}
