{
 "cells": [
  {
   "cell_type": "markdown",
   "id": "f816247d-5caf-4b20-ad16-3604c5c8df36",
   "metadata": {},
   "source": [
    "**F-Strings**"
   ]
  },
  {
   "cell_type": "code",
   "execution_count": 1,
   "id": "e8ffeeaa-709c-4076-98a7-5867f16afa1d",
   "metadata": {},
   "outputs": [
    {
     "name": "stdout",
     "output_type": "stream",
     "text": [
      "hossein\n"
     ]
    }
   ],
   "source": [
    "name = f\"hossein\"\n",
    "\n",
    "print(name)"
   ]
  },
  {
   "cell_type": "markdown",
   "id": "654106df-af33-43c7-a4e7-003c53573db9",
   "metadata": {},
   "source": [
    "**Placeholders and Modifiers**"
   ]
  },
  {
   "cell_type": "code",
   "execution_count": 3,
   "id": "73be9d88-b68a-4f5c-9aaa-06b0be567b2d",
   "metadata": {},
   "outputs": [
    {
     "name": "stdout",
     "output_type": "stream",
     "text": [
      "his age is 23 years old\n"
     ]
    }
   ],
   "source": [
    "age = 23\n",
    "\n",
    "intro = f\"his age is {age} years old\"\n",
    "print(intro)"
   ]
  },
  {
   "cell_type": "markdown",
   "id": "b2ffa254-04b1-4b3d-9baf-cb09498ba64e",
   "metadata": {},
   "source": [
    "A modifier is included by adding a colon : followed by a legal formatting type, like .2f which means fixed point number with 2 decimals"
   ]
  },
  {
   "cell_type": "code",
   "execution_count": 6,
   "id": "3dfe3d27-dfe2-4fe8-ba23-1d589006cbc5",
   "metadata": {},
   "outputs": [
    {
     "name": "stdout",
     "output_type": "stream",
     "text": [
      "the price of this jacket is 15.00 $\n"
     ]
    }
   ],
   "source": [
    "price = 15\n",
    "\n",
    "inf = f\"the price of this jacket is {price:.2f} $\"\n",
    "print(inf)"
   ]
  },
  {
   "cell_type": "code",
   "execution_count": 8,
   "id": "6e2b70c8-ed85-4456-925a-3c0895697fb9",
   "metadata": {},
   "outputs": [
    {
     "name": "stdout",
     "output_type": "stream",
     "text": [
      "the price is 64.00 $\n"
     ]
    }
   ],
   "source": [
    "price = f\"the price is {64:.2f} $\"\n",
    "print(price)"
   ]
  },
  {
   "cell_type": "code",
   "execution_count": 11,
   "id": "9c0f8292-c4b0-48c5-9aa1-6fed124e5c30",
   "metadata": {},
   "outputs": [
    {
     "name": "stdout",
     "output_type": "stream",
     "text": [
      "the price is 8 $\n"
     ]
    }
   ],
   "source": [
    "price = f\"the price is {2 * 4} $\"\n",
    "print(price)"
   ]
  },
  {
   "cell_type": "code",
   "execution_count": 12,
   "id": "a0835e6d-eabf-4e0b-8e5c-6a31a0a7cd47",
   "metadata": {},
   "outputs": [
    {
     "name": "stdout",
     "output_type": "stream",
     "text": [
      "the price is 25.0 $\n"
     ]
    }
   ],
   "source": [
    "price = 20\n",
    "tax = 0.25\n",
    "\n",
    "print(f\"the price is {price + (price * tax)} $\")"
   ]
  },
  {
   "cell_type": "code",
   "execution_count": 14,
   "id": "6f0dcf3d-bd3e-41a1-b00e-32400dead1e5",
   "metadata": {},
   "outputs": [
    {
     "name": "stdout",
     "output_type": "stream",
     "text": [
      "the price is cheap.\n"
     ]
    }
   ],
   "source": [
    "price = 20\n",
    "\n",
    "print(f\"the price is {'expecnsive' if price>50 else 'cheap'}.\")"
   ]
  },
  {
   "cell_type": "code",
   "execution_count": 16,
   "id": "deedf5e0-5669-42f9-8e36-91652b1f693d",
   "metadata": {},
   "outputs": [
    {
     "name": "stdout",
     "output_type": "stream",
     "text": [
      "HOSSEIN\n"
     ]
    }
   ],
   "source": [
    "name = \"hossein\"\n",
    "\n",
    "capName = f\"{name.upper()}\"\n",
    "print(capName)"
   ]
  },
  {
   "cell_type": "code",
   "execution_count": 18,
   "id": "fcb2136c-7778-4245-b3d3-99f48cf18b7d",
   "metadata": {},
   "outputs": [
    {
     "name": "stdout",
     "output_type": "stream",
     "text": [
      "the new number is 6\n"
     ]
    }
   ],
   "source": [
    "def multiplyer(a):\n",
    "    return a * 2\n",
    "\n",
    "number = f\"the new number is {multiplyer(3)}\"\n",
    "print(number)\n",
    "    "
   ]
  },
  {
   "cell_type": "code",
   "execution_count": 20,
   "id": "8808f390-f401-4562-b6cf-a3857a606090",
   "metadata": {},
   "outputs": [
    {
     "name": "stdout",
     "output_type": "stream",
     "text": [
      "the macbook pro's price is 4,500 dollers\n"
     ]
    }
   ],
   "source": [
    "price = 4500\n",
    "text = f\"the macbook pro's price is {price:,} dollers\"\n",
    "\n",
    "print(text)"
   ]
  },
  {
   "cell_type": "code",
   "execution_count": null,
   "id": "2cf0389d-e555-4ec7-924c-3ba6ecb06c1c",
   "metadata": {},
   "outputs": [],
   "source": []
  }
 ],
 "metadata": {
  "kernelspec": {
   "display_name": "Python 3 (ipykernel)",
   "language": "python",
   "name": "python3"
  },
  "language_info": {
   "codemirror_mode": {
    "name": "ipython",
    "version": 3
   },
   "file_extension": ".py",
   "mimetype": "text/x-python",
   "name": "python",
   "nbconvert_exporter": "python",
   "pygments_lexer": "ipython3",
   "version": "3.11.7"
  }
 },
 "nbformat": 4,
 "nbformat_minor": 5
}
