{
 "cells": [
  {
   "cell_type": "code",
   "execution_count": 1,
   "id": "895931b5-ac9c-4041-9ac9-afe088d3d392",
   "metadata": {},
   "outputs": [],
   "source": [
    "# A date in Python is not a data type of its own, \n",
    "# but we can import a module named datetime to work with dates as date objects"
   ]
  },
  {
   "cell_type": "code",
   "execution_count": 2,
   "id": "90cb8854-0ade-4e16-8703-40581fb525bd",
   "metadata": {},
   "outputs": [
    {
     "name": "stdout",
     "output_type": "stream",
     "text": [
      "2024-07-04 17:24:26.264878\n"
     ]
    }
   ],
   "source": [
    "import datetime\n",
    "\n",
    "time = datetime.datetime.now()\n",
    "print(time)"
   ]
  },
  {
   "cell_type": "code",
   "execution_count": 5,
   "id": "7d2b7169-c7bb-475a-83e3-cbe0f4028e87",
   "metadata": {},
   "outputs": [
    {
     "name": "stdout",
     "output_type": "stream",
     "text": [
      "2024\n",
      "Thursday\n"
     ]
    }
   ],
   "source": [
    "import datetime\n",
    "\n",
    "time = datetime.datetime.now()\n",
    "print(time.year)\n",
    "print(time.strftime(\"%A\"))"
   ]
  },
  {
   "cell_type": "code",
   "execution_count": 13,
   "id": "51c8b7c6-eae5-47fe-bf6b-0a0e5edf548d",
   "metadata": {},
   "outputs": [
    {
     "name": "stdout",
     "output_type": "stream",
     "text": [
      "2020-05-03 23:54:08\n"
     ]
    }
   ],
   "source": [
    "# Creating Date Objects\n",
    "# The datetime() class requires three parameters to create a date: year, month, day.\n",
    "\n",
    "import datetime\n",
    "\n",
    "time = datetime.datetime(2020, 5, 3, 23, 54, 8)\n",
    "print(time)"
   ]
  },
  {
   "cell_type": "code",
   "execution_count": 14,
   "id": "90804b15-c035-4023-888c-46e9b635d1c8",
   "metadata": {},
   "outputs": [],
   "source": [
    "# %a\tWeekday, short version\t                                                  Wed\t\n",
    "# %A\tWeekday, full version\t                                                  Wednesday\t\n",
    "# %w\tWeekday as a number 0-6, 0 is Sunday\t                                  3\t\n",
    "# %d\tDay of month 01-31\t                                                      31\t\n",
    "# %b\tMonth name, short version                   \t                          Dec\n",
    "# %B\tMonth name, full version\t                                              December\t\n",
    "# %m\tMonth as a number 01-12\t                                                  12\t\n",
    "# %y\tYear, short version, without century\t                                  18\t\n",
    "# %Y\tYear, full version\t                                                      2018\t\n",
    "# %H\tHour 00-23\t                                                              17\t\n",
    "# %I\tHour 00-12                                                                05\t\n",
    "# %p\tAM/PM\t                                                                  PM\t\n",
    "# %M\tMinute 00-59\t                                                          41\t\n",
    "# %S\tSecond 00-59\t                                                          08\t\n",
    "# %f\tMicrosecond 000000-999999\t                                              548513\t\n",
    "# %z\tUTC offset\t                                                              +0100\t\n",
    "# %Z\tTimezone\t                                                              CST\t\n",
    "# %j\tDay number of year 001-366\t                                              365\t\n",
    "# %U\tWeek number of year, Sunday as the first day of week, 00-53\t              52\t\n",
    "# %W\tWeek number of year, Monday as the first day of week, 00-53               52\t\n",
    "# %c\tLocal version of date and time\t                                          Mon Dec 31 17:41:00 2018\t\n",
    "# %C\tCentury\t                                                                  20\t\n",
    "# %x\tLocal version of date\t                                                  12/31/18\t\n",
    "# %X\tLocal version of time\t                                                  17:41:00\t\n",
    "# %%\tA % character\t                                                          %\t\n",
    "# %G\tISO 8601 year\t                                                          2018\t\n",
    "# %u\tISO 8601 weekday (1-7)\t                                                  1\t\n",
    "# %V\tISO 8601 weeknumber (01-53)\t                                              01"
   ]
  },
  {
   "cell_type": "code",
   "execution_count": null,
   "id": "891ecff0-410a-4cdd-b713-048ded5aac45",
   "metadata": {},
   "outputs": [],
   "source": []
  }
 ],
 "metadata": {
  "kernelspec": {
   "display_name": "Python 3 (ipykernel)",
   "language": "python",
   "name": "python3"
  },
  "language_info": {
   "codemirror_mode": {
    "name": "ipython",
    "version": 3
   },
   "file_extension": ".py",
   "mimetype": "text/x-python",
   "name": "python",
   "nbconvert_exporter": "python",
   "pygments_lexer": "ipython3",
   "version": "3.11.7"
  }
 },
 "nbformat": 4,
 "nbformat_minor": 5
}
