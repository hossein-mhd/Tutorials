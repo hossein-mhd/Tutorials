{
 "cells": [
  {
   "cell_type": "code",
   "execution_count": 1,
   "id": "558ee232-f9e7-4dff-af6e-274b41f06278",
   "metadata": {},
   "outputs": [
    {
     "name": "stdout",
     "output_type": "stream",
     "text": [
      "['hossein', 'ali', 'milad']\n"
     ]
    }
   ],
   "source": [
    "names = [\"hossein\", \"ali\", \"milad\"]\n",
    "print(names)"
   ]
  },
  {
   "cell_type": "code",
   "execution_count": 2,
   "id": "615c8a6e-98ae-4d13-a5cb-43928b9e9cd7",
   "metadata": {},
   "outputs": [],
   "source": [
    "# List is a collection which is ordered and changeable. Allows duplicate members.\n",
    "# Tuple is a collection which is ordered and unchangeable. Allows duplicate members.\n",
    "# Set is a collection which is unordered, unchangeable*, and unindexed. No duplicate members.\n",
    "# Dictionary is a collection which is ordered** and changeable. No duplicate members."
   ]
  },
  {
   "cell_type": "code",
   "execution_count": 5,
   "id": "331bfad1-289b-4e6b-8f4d-2bae0128376b",
   "metadata": {},
   "outputs": [
    {
     "name": "stdout",
     "output_type": "stream",
     "text": [
      "['hossein', 'ali', 'mosen', 'hossein']\n"
     ]
    }
   ],
   "source": [
    "names = [\"hossein\", \"ali\", \"mosen\", \"hossein\"]\n",
    "print(names)"
   ]
  },
  {
   "cell_type": "code",
   "execution_count": 6,
   "id": "2606b787-33dc-445d-8a17-35aacd440414",
   "metadata": {},
   "outputs": [
    {
     "name": "stdout",
     "output_type": "stream",
     "text": [
      "4\n"
     ]
    }
   ],
   "source": [
    "a = len(names)\n",
    "print(a)"
   ]
  },
  {
   "cell_type": "code",
   "execution_count": 7,
   "id": "563f2bc3-8e2c-4e9c-bb66-90c38ae80db1",
   "metadata": {},
   "outputs": [
    {
     "name": "stdout",
     "output_type": "stream",
     "text": [
      "['banana', 49, 5.4, True]\n"
     ]
    }
   ],
   "source": [
    "newList = [\"banana\", 49, 5.4, True]\n",
    "print(newList)"
   ]
  },
  {
   "cell_type": "code",
   "execution_count": 8,
   "id": "305d976c-3002-42cd-90af-f7b9e93392c8",
   "metadata": {},
   "outputs": [
    {
     "name": "stdout",
     "output_type": "stream",
     "text": [
      "<class 'list'>\n"
     ]
    }
   ],
   "source": [
    "print(type(newList))"
   ]
  },
  {
   "cell_type": "code",
   "execution_count": 9,
   "id": "0cb7715d-ad7c-4c97-b55e-a1c26f73e572",
   "metadata": {},
   "outputs": [
    {
     "name": "stdout",
     "output_type": "stream",
     "text": [
      "['hossein', 'ali', 'ahmad']\n"
     ]
    }
   ],
   "source": [
    "# The list() Constructor\n",
    "\n",
    "names = list((\"hossein\", \"ali\", \"ahmad\"))\n",
    "print(names)"
   ]
  },
  {
   "cell_type": "code",
   "execution_count": 11,
   "id": "00464d66-9aad-4ae6-af8c-652dc7d96faa",
   "metadata": {},
   "outputs": [
    {
     "name": "stdout",
     "output_type": "stream",
     "text": [
      "ali\n"
     ]
    }
   ],
   "source": [
    "a = names[1]\n",
    "print(a)"
   ]
  },
  {
   "cell_type": "code",
   "execution_count": 13,
   "id": "3bc49d37-af9b-4777-9a26-799e1f79f3cb",
   "metadata": {},
   "outputs": [
    {
     "name": "stdout",
     "output_type": "stream",
     "text": [
      "['ali', 'ahmad']\n",
      "['hossein', 'ali', 'ahmad', 'mohsen']\n"
     ]
    }
   ],
   "source": [
    "names = [\"hossein\", \"ali\", \"ahmad\", \"mohsen\", \"mohammad\"]\n",
    "a = names[1:3]\n",
    "b = names[:4]\n",
    "print(a)\n",
    "print(b)"
   ]
  },
  {
   "cell_type": "code",
   "execution_count": 14,
   "id": "e654007b-b20c-4df7-b3a1-f3f28910fc7c",
   "metadata": {},
   "outputs": [
    {
     "name": "stdout",
     "output_type": "stream",
     "text": [
      "True\n"
     ]
    }
   ],
   "source": [
    "print(\"hossein\" in names)"
   ]
  },
  {
   "cell_type": "code",
   "execution_count": 15,
   "id": "6382ee24-cbd1-4a3d-beef-4b8db2968d28",
   "metadata": {},
   "outputs": [
    {
     "name": "stdout",
     "output_type": "stream",
     "text": [
      "Yes, hossein is in the name list.\n"
     ]
    }
   ],
   "source": [
    "if \"hossein\" in names:\n",
    "    print(\"Yes, hossein is in the name list.\")\n",
    "else:\n",
    "    print(\"No, it doesen't exist.\")"
   ]
  },
  {
   "cell_type": "code",
   "execution_count": 16,
   "id": "08b29530-920a-4475-803a-6d1f94f319cd",
   "metadata": {},
   "outputs": [
    {
     "name": "stdout",
     "output_type": "stream",
     "text": [
      "['hossein', 'alireza', 'ahmad', 'mohsen', 'mohammad']\n"
     ]
    }
   ],
   "source": [
    "names = [\"hossein\", \"ali\", \"ahmad\", \"mohsen\", \"mohammad\"]\n",
    "names[1] = \"alireza\"\n",
    "print(names)"
   ]
  },
  {
   "cell_type": "code",
   "execution_count": 18,
   "id": "5a48addb-01d7-42f2-add1-ce2fc0953af0",
   "metadata": {},
   "outputs": [
    {
     "name": "stdout",
     "output_type": "stream",
     "text": [
      "['hossein', 'kiarash', 'mahmoud', 'mohsen', 'mohammad']\n",
      "['hossein', 'makan', 'khalse', 'mahmoud', 'mohsen', 'mohammad']\n"
     ]
    }
   ],
   "source": [
    "names[1:3] = [\"kiarash\", \"mahmoud\"]\n",
    "print(names)\n",
    "names[1:2] = [\"makan\", \"khalse\"]\n",
    "print(names)"
   ]
  },
  {
   "cell_type": "code",
   "execution_count": null,
   "id": "a70c15c4-09e5-4b4e-88e9-6c9c98ca43e6",
   "metadata": {},
   "outputs": [],
   "source": [
    "# adding item to the list"
   ]
  },
  {
   "cell_type": "code",
   "execution_count": 20,
   "id": "1dc0751e-08a9-4ccc-855d-73e9aaf2d906",
   "metadata": {},
   "outputs": [
    {
     "name": "stdout",
     "output_type": "stream",
     "text": [
      "['hossein', 'ahmad', 'ali', 'kiarash']\n"
     ]
    }
   ],
   "source": [
    "names = [\"hossein\", \"ali\", \"kiarash\"]\n",
    "names.insert(1,\"ahmad\")\n",
    "print(names)"
   ]
  },
  {
   "cell_type": "code",
   "execution_count": 21,
   "id": "3c86d4ef-8a24-4dcf-8d9f-073e0e4c4b44",
   "metadata": {},
   "outputs": [
    {
     "name": "stdout",
     "output_type": "stream",
     "text": [
      "['hossein', 'ahmad', 'ali', 'kiarash', 'jahangir']\n"
     ]
    }
   ],
   "source": [
    "names.append(\"jahangir\")\n",
    "print(names)"
   ]
  },
  {
   "cell_type": "code",
   "execution_count": 22,
   "id": "c1347d1e-0a55-4c19-99c3-deaa0c2f8b69",
   "metadata": {},
   "outputs": [
    {
     "name": "stdout",
     "output_type": "stream",
     "text": [
      "['hossein', 'ali', 'mohsen', 'mohammadi', 'ansari', 'kia']\n"
     ]
    }
   ],
   "source": [
    "names = [\"hossein\", \"ali\", \"mohsen\"]\n",
    "family = [\"mohammadi\", \"ansari\", \"kia\"]\n",
    "names.extend(family)\n",
    "print(names)"
   ]
  },
  {
   "cell_type": "code",
   "execution_count": 23,
   "id": "cf795a66-c1a4-480f-80bc-33fef0f2f9b6",
   "metadata": {},
   "outputs": [
    {
     "name": "stdout",
     "output_type": "stream",
     "text": [
      "['hossein', 'ali', 'mohsen', 'mohammadi', 'ansari', 'kia']\n"
     ]
    }
   ],
   "source": [
    "# extend tupple to list\n",
    "\n",
    "names = [\"hossein\", \"ali\", \"mohsen\"]\n",
    "family = (\"mohammadi\", \"ansari\", \"kia\")\n",
    "names.extend(family)\n",
    "print(names)"
   ]
  },
  {
   "cell_type": "code",
   "execution_count": 24,
   "id": "bd42e230-0863-468d-b19d-bfad274e3881",
   "metadata": {},
   "outputs": [
    {
     "name": "stdout",
     "output_type": "stream",
     "text": [
      "['hossein', 'mohsen']\n"
     ]
    }
   ],
   "source": [
    "# remove, del, pop, clear\n",
    "\n",
    "names = [\"hossein\", \"ali\", \"mohsen\"]\n",
    "names.remove(\"ali\")\n",
    "print(names)"
   ]
  },
  {
   "cell_type": "code",
   "execution_count": 25,
   "id": "bfa655a4-44ab-4050-be3d-53e8cfeee81a",
   "metadata": {},
   "outputs": [
    {
     "name": "stdout",
     "output_type": "stream",
     "text": [
      "['hossein', 'mohsen', 'ali']\n"
     ]
    }
   ],
   "source": [
    "names = [\"hossein\", \"ali\", \"mohsen\",\"ali\"]\n",
    "names.remove(\"ali\")\n",
    "print(names)"
   ]
  },
  {
   "cell_type": "code",
   "execution_count": 26,
   "id": "a62dcddb-792a-49e4-beae-7cae1d9ef84f",
   "metadata": {},
   "outputs": [
    {
     "name": "stdout",
     "output_type": "stream",
     "text": [
      "['hossein', 'mohsen']\n"
     ]
    }
   ],
   "source": [
    "names = [\"hossein\", \"ali\", \"mohsen\"]\n",
    "names.pop(1)\n",
    "print(names)"
   ]
  },
  {
   "cell_type": "code",
   "execution_count": 27,
   "id": "a05e6f89-322e-43e2-a828-0eb7b16f45cb",
   "metadata": {},
   "outputs": [
    {
     "name": "stdout",
     "output_type": "stream",
     "text": [
      "['hossein', 'ali']\n"
     ]
    }
   ],
   "source": [
    "names = [\"hossein\", \"ali\", \"mohsen\"]\n",
    "names.pop()   # if you dont specify the index it pops out the last item\n",
    "print(names)"
   ]
  },
  {
   "cell_type": "code",
   "execution_count": 29,
   "id": "5a9db7dd-f5e9-40e4-aa6d-21fc62705000",
   "metadata": {},
   "outputs": [
    {
     "name": "stdout",
     "output_type": "stream",
     "text": [
      "['hossein', 'mohsen']\n"
     ]
    }
   ],
   "source": [
    "names = [\"hossein\", \"ali\", \"mohsen\"]\n",
    "del names[1]\n",
    "print(names)"
   ]
  },
  {
   "cell_type": "code",
   "execution_count": 30,
   "id": "34bf3292-14ba-450c-946c-f61161e8b76d",
   "metadata": {},
   "outputs": [
    {
     "ename": "NameError",
     "evalue": "name 'names' is not defined",
     "output_type": "error",
     "traceback": [
      "\u001b[1;31m---------------------------------------------------------------------------\u001b[0m",
      "\u001b[1;31mNameError\u001b[0m                                 Traceback (most recent call last)",
      "Cell \u001b[1;32mIn[30], line 2\u001b[0m\n\u001b[0;32m      1\u001b[0m \u001b[38;5;28;01mdel\u001b[39;00m names\n\u001b[1;32m----> 2\u001b[0m \u001b[38;5;28mprint\u001b[39m(names)\n",
      "\u001b[1;31mNameError\u001b[0m: name 'names' is not defined"
     ]
    }
   ],
   "source": [
    "del names\n",
    "print(names)\n",
    "# cause error because names list has deleted"
   ]
  },
  {
   "cell_type": "code",
   "execution_count": 31,
   "id": "aaa21537-7c5f-465f-8bdc-33e7cf70959a",
   "metadata": {},
   "outputs": [
    {
     "name": "stdout",
     "output_type": "stream",
     "text": [
      "[]\n"
     ]
    }
   ],
   "source": [
    "names = [\"hossein\", \"ali\", \"mohsen\"]\n",
    "names.clear()\n",
    "print(names)"
   ]
  },
  {
   "cell_type": "code",
   "execution_count": 32,
   "id": "d8dec1f4-7804-4378-bccb-cfe6d4e021f3",
   "metadata": {},
   "outputs": [
    {
     "name": "stdout",
     "output_type": "stream",
     "text": [
      "hossein\n",
      "ali\n",
      "mohsen\n"
     ]
    }
   ],
   "source": [
    "# loop\n",
    "\n",
    "names = [\"hossein\", \"ali\", \"mohsen\"]\n",
    "for name in names:\n",
    "    print(name)"
   ]
  },
  {
   "cell_type": "code",
   "execution_count": 37,
   "id": "285b1490-f4b0-4e31-bc0f-1541451b8af7",
   "metadata": {},
   "outputs": [
    {
     "name": "stdout",
     "output_type": "stream",
     "text": [
      "hossein\n",
      "ali\n",
      "mohsen\n"
     ]
    }
   ],
   "source": [
    "for name in range(len(names)):\n",
    "    print(names[name])\n",
    " #   print(name)\n",
    "    "
   ]
  },
  {
   "cell_type": "code",
   "execution_count": 39,
   "id": "81886acd-baaa-4440-897b-63cdbad5c811",
   "metadata": {},
   "outputs": [
    {
     "name": "stdout",
     "output_type": "stream",
     "text": [
      "hossein\n",
      "ali\n",
      "mohsen\n"
     ]
    }
   ],
   "source": [
    "i=0\n",
    "while i<len(names):\n",
    "    print(names[i])\n",
    "    i += 1"
   ]
  },
  {
   "cell_type": "code",
   "execution_count": 40,
   "id": "c869f03f-3913-43bc-a776-24507790715a",
   "metadata": {},
   "outputs": [
    {
     "name": "stdout",
     "output_type": "stream",
     "text": [
      "hossein\n",
      "ali\n",
      "mohsen\n"
     ]
    },
    {
     "data": {
      "text/plain": [
       "[None, None, None]"
      ]
     },
     "execution_count": 40,
     "metadata": {},
     "output_type": "execute_result"
    }
   ],
   "source": [
    "names = [\"hossein\", \"ali\", \"mohsen\"]\n",
    "[print(name) for name in names]"
   ]
  },
  {
   "cell_type": "code",
   "execution_count": null,
   "id": "ebb09bcd-a11e-49d2-b72c-6bf851e00971",
   "metadata": {},
   "outputs": [],
   "source": [
    "# List comprehension"
   ]
  },
  {
   "cell_type": "code",
   "execution_count": 7,
   "id": "84fc507a-c74d-4df3-987d-a1d6d2da2b7d",
   "metadata": {},
   "outputs": [
    {
     "name": "stdout",
     "output_type": "stream",
     "text": [
      "['hossein', 'mohsen', 'ahmad']\n"
     ]
    }
   ],
   "source": [
    "names = [\"hossein\", \"ali\", \"mohsen\", \"milad\", \"ahmad\"]\n",
    "newList = []\n",
    "for name in names:\n",
    "    if \"h\" in name:\n",
    "        newList.append(name)\n",
    "print(newList)"
   ]
  },
  {
   "cell_type": "code",
   "execution_count": 8,
   "id": "d9eba1d7-a9e4-4efc-9273-ea903cb0d438",
   "metadata": {},
   "outputs": [
    {
     "name": "stdout",
     "output_type": "stream",
     "text": [
      "['ali', 'milad', 'ahmad']\n"
     ]
    }
   ],
   "source": [
    "newList = [name for name in names if \"a\" in name]\n",
    "print(newList)"
   ]
  },
  {
   "cell_type": "code",
   "execution_count": 4,
   "id": "7adb7da9-6c12-42e2-a7ee-50d6fa210538",
   "metadata": {},
   "outputs": [
    {
     "name": "stdout",
     "output_type": "stream",
     "text": [
      "['ali', 'mohsen', 'milad', 'ahmad']\n"
     ]
    }
   ],
   "source": [
    "names = [\"hossein\", \"ali\", \"mohsen\", \"milad\", \"ahmad\"]\n",
    "newList = [name for name in names if name != \"hossein\"]\n",
    "print(newList)"
   ]
  },
  {
   "cell_type": "code",
   "execution_count": 5,
   "id": "1f542abd-1d14-4c54-90a7-dd13fce46be8",
   "metadata": {},
   "outputs": [
    {
     "name": "stdout",
     "output_type": "stream",
     "text": [
      "[0, 1, 2, 3, 4, 5, 6, 7, 8, 9]\n"
     ]
    }
   ],
   "source": [
    "numbers = [num for num in range(10)]\n",
    "print(numbers)"
   ]
  },
  {
   "cell_type": "code",
   "execution_count": 8,
   "id": "750dec66-940c-4c6d-8df0-ceafc3447035",
   "metadata": {},
   "outputs": [
    {
     "name": "stdout",
     "output_type": "stream",
     "text": [
      "[0, 1, 2, 3, 4, 5]\n"
     ]
    }
   ],
   "source": [
    "numbers = [num for num in range(10) if num < 6]\n",
    "print(numbers)"
   ]
  },
  {
   "cell_type": "code",
   "execution_count": 10,
   "id": "a0c88bc6-586c-48ca-8cf5-fd4667f4e114",
   "metadata": {},
   "outputs": [
    {
     "name": "stdout",
     "output_type": "stream",
     "text": [
      "['HOSSEIN', 'ALI', 'MOHSEN', 'MILAD', 'AHMAD']\n",
      "['hossein', 'hossein', 'hossein', 'hossein', 'hossein']\n"
     ]
    }
   ],
   "source": [
    "names = [\"hossein\", \"ali\", \"mohsen\", \"milad\", \"ahmad\"]\n",
    "newList = [name.upper() for name in names]\n",
    "newList2 = [\"hossein\" for name in names]\n",
    "print(newList)\n",
    "print(newList2)"
   ]
  },
  {
   "cell_type": "code",
   "execution_count": 13,
   "id": "3780428a-85dc-4608-b298-8bc344c60835",
   "metadata": {},
   "outputs": [
    {
     "name": "stdout",
     "output_type": "stream",
     "text": [
      "['hossein', 'akbar', 'akbar', 'akbar', 'akbar']\n",
      "['akbar', 'ali', 'mohsen', 'milad', 'ahmad']\n"
     ]
    }
   ],
   "source": [
    "names = [\"hossein\", \"ali\", \"mohsen\", \"milad\", \"ahmad\"]\n",
    "newList = [name if name == \"hossein\" else \"akbar\" for name in names]\n",
    "newList2 = [name if name != \"hossein\" else \"akbar\" for name in names]\n",
    "print(newList)\n",
    "print(newList2)"
   ]
  },
  {
   "cell_type": "code",
   "execution_count": 14,
   "id": "2fce1ad1-f6a3-4b69-87da-c6c88741ccde",
   "metadata": {},
   "outputs": [
    {
     "name": "stdout",
     "output_type": "stream",
     "text": [
      "['ahmad', 'ali', 'hossein', 'milad', 'mohsen']\n"
     ]
    }
   ],
   "source": [
    "names.sort()\n",
    "print(names)"
   ]
  },
  {
   "cell_type": "code",
   "execution_count": null,
   "id": "64b8c625-1002-42f2-9d37-760c6c7cdbb9",
   "metadata": {},
   "outputs": [],
   "source": [
    "# sort list"
   ]
  },
  {
   "cell_type": "code",
   "execution_count": 16,
   "id": "24cb0092-0732-429c-878c-1bcc29122895",
   "metadata": {},
   "outputs": [
    {
     "name": "stdout",
     "output_type": "stream",
     "text": [
      "[0, 1, 2, 3, 4, 5, 6, 7, 8, 9, 10]\n"
     ]
    }
   ],
   "source": [
    "numbers = [5, 7, 1, 8, 4, 9, 0, 10, 6, 2, 3]\n",
    "numbers.sort()\n",
    "print(numbers)"
   ]
  },
  {
   "cell_type": "code",
   "execution_count": 18,
   "id": "0be8a4f5-90b5-43c1-a0ca-d3420f39187c",
   "metadata": {},
   "outputs": [
    {
     "name": "stdout",
     "output_type": "stream",
     "text": [
      "[10, 9, 8, 7, 6, 5, 4, 3, 2, 1, 0]\n"
     ]
    }
   ],
   "source": [
    "numbers.sort(reverse=True)\n",
    "print(numbers)"
   ]
  },
  {
   "cell_type": "code",
   "execution_count": 20,
   "id": "4aee8a7c-d7f4-4bc3-bfd4-d56d4c69a0c7",
   "metadata": {},
   "outputs": [
    {
     "name": "stdout",
     "output_type": "stream",
     "text": [
      "['Hossein', 'Milad', 'ahmad', 'ali', 'mohsen']\n"
     ]
    }
   ],
   "source": [
    "# if you want a case-insensitive sort function, use str.lower as a key function\n",
    "\n",
    "names = [\"Hossein\", \"ali\", \"mohsen\", \"Milad\", \"ahmad\"]\n",
    "names.sort()\n",
    "print(names)"
   ]
  },
  {
   "cell_type": "code",
   "execution_count": 22,
   "id": "aa0aded7-5d4b-42b8-a62a-9f1adf79952a",
   "metadata": {},
   "outputs": [
    {
     "name": "stdout",
     "output_type": "stream",
     "text": [
      "['ahmad', 'ali', 'Hossein', 'Milad', 'mohsen']\n"
     ]
    }
   ],
   "source": [
    "#if you want a case-insensitive sort function, use str.lower as a key function\n",
    "\n",
    "names = [\"Hossein\", \"ali\", \"mohsen\", \"Milad\", \"ahmad\"]\n",
    "names.sort(key = str.lower)\n",
    "print(names)"
   ]
  },
  {
   "cell_type": "code",
   "execution_count": 23,
   "id": "00c980d2-21b7-436e-9808-fb93404ac510",
   "metadata": {},
   "outputs": [
    {
     "name": "stdout",
     "output_type": "stream",
     "text": [
      "['mohsen', 'Milad', 'Hossein', 'ali', 'ahmad']\n"
     ]
    }
   ],
   "source": [
    "names.reverse()\n",
    "print(names)"
   ]
  },
  {
   "cell_type": "code",
   "execution_count": null,
   "id": "fa44d975-2330-478d-acd9-f75ddb2b1806",
   "metadata": {},
   "outputs": [],
   "source": [
    "# Copy Lists"
   ]
  },
  {
   "cell_type": "code",
   "execution_count": 24,
   "id": "110e978d-2b32-4353-8abb-eb3c89a00049",
   "metadata": {},
   "outputs": [
    {
     "name": "stdout",
     "output_type": "stream",
     "text": [
      "['hossein', 'ali', 'mohsen', 'milad', 'ahmad']\n"
     ]
    }
   ],
   "source": [
    "names = [\"hossein\", \"ali\", \"mohsen\", \"milad\", \"ahmad\"]\n",
    "newCopyList = names.copy()\n",
    "print(newCopyList)"
   ]
  },
  {
   "cell_type": "code",
   "execution_count": 25,
   "id": "d4366e09-eead-4c20-b0b2-05cb6051ac8c",
   "metadata": {},
   "outputs": [
    {
     "name": "stdout",
     "output_type": "stream",
     "text": [
      "['hossein', 'ali', 'mohsen', 'milad', 'ahmad']\n"
     ]
    }
   ],
   "source": [
    "newCopyList2 = list(names)\n",
    "print(newCopyList2)"
   ]
  },
  {
   "cell_type": "code",
   "execution_count": 26,
   "id": "443da092-7101-4b71-b41b-322ad724d5ee",
   "metadata": {},
   "outputs": [],
   "source": [
    "# Join Two Lists"
   ]
  },
  {
   "cell_type": "code",
   "execution_count": 27,
   "id": "0097a939-73ca-4c5d-9e3d-ffa2d33964b8",
   "metadata": {},
   "outputs": [
    {
     "name": "stdout",
     "output_type": "stream",
     "text": [
      "['hossein', 'farhad', 'naser', 'mohammadi', 'majidi', 'hejazi']\n"
     ]
    }
   ],
   "source": [
    "names = [\"hossein\", \"farhad\", \"naser\"]\n",
    "family = [\"mohammadi\", \"majidi\", \"hejazi\"]\n",
    "fullName = names + family\n",
    "print(fullName)"
   ]
  },
  {
   "cell_type": "code",
   "execution_count": 32,
   "id": "b0285277-57ba-469d-85ca-8abbcd343d88",
   "metadata": {},
   "outputs": [
    {
     "name": "stdout",
     "output_type": "stream",
     "text": [
      "['hossein', 'farhad', 'naser', 'mohammadi', 'majidi', 'hejazi']\n"
     ]
    }
   ],
   "source": [
    "names = [\"hossein\", \"farhad\", \"naser\"]\n",
    "for item in family:\n",
    "    names.append(item)\n",
    "print(names)"
   ]
  },
  {
   "cell_type": "code",
   "execution_count": 33,
   "id": "5d5f2462-9fa7-4573-ac44-5d7c4df4c871",
   "metadata": {},
   "outputs": [
    {
     "name": "stdout",
     "output_type": "stream",
     "text": [
      "['hossein', 'farhad', 'naser', 'mohammadi', 'majidi', 'hejazi']\n"
     ]
    }
   ],
   "source": [
    "names = [\"hossein\", \"farhad\", \"naser\"]\n",
    "names.extend(family)\n",
    "print(names)"
   ]
  },
  {
   "cell_type": "code",
   "execution_count": null,
   "id": "e0720a60-94a0-43be-8467-c7843b0cce2f",
   "metadata": {},
   "outputs": [],
   "source": []
  }
 ],
 "metadata": {
  "kernelspec": {
   "display_name": "Python 3 (ipykernel)",
   "language": "python",
   "name": "python3"
  },
  "language_info": {
   "codemirror_mode": {
    "name": "ipython",
    "version": 3
   },
   "file_extension": ".py",
   "mimetype": "text/x-python",
   "name": "python",
   "nbconvert_exporter": "python",
   "pygments_lexer": "ipython3",
   "version": "3.11.7"
  }
 },
 "nbformat": 4,
 "nbformat_minor": 5
}
