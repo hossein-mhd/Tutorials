{
 "cells": [
  {
   "cell_type": "code",
   "execution_count": 2,
   "id": "34f0dab6-77e0-4764-81db-d4c145299c58",
   "metadata": {},
   "outputs": [
    {
     "name": "stdin",
     "output_type": "stream",
     "text": [
      "enter your name  hossein\n"
     ]
    },
    {
     "name": "stdout",
     "output_type": "stream",
     "text": [
      "name is hossein\n"
     ]
    }
   ],
   "source": [
    "userName = input(\"enter your name \")\n",
    "print(\"name is\", userName)"
   ]
  },
  {
   "cell_type": "code",
   "execution_count": null,
   "id": "9cfd8f4c-9b6e-4300-8f93-eb7ca8d43ff1",
   "metadata": {},
   "outputs": [],
   "source": []
  }
 ],
 "metadata": {
  "kernelspec": {
   "display_name": "Python 3 (ipykernel)",
   "language": "python",
   "name": "python3"
  },
  "language_info": {
   "codemirror_mode": {
    "name": "ipython",
    "version": 3
   },
   "file_extension": ".py",
   "mimetype": "text/x-python",
   "name": "python",
   "nbconvert_exporter": "python",
   "pygments_lexer": "ipython3",
   "version": "3.11.7"
  }
 },
 "nbformat": 4,
 "nbformat_minor": 5
}
