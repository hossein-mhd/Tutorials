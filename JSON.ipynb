{
 "cells": [
  {
   "cell_type": "code",
   "execution_count": 1,
   "id": "5c9d1233-f179-4dae-97c6-3d87623ae42f",
   "metadata": {},
   "outputs": [],
   "source": [
    "# json.loads()\n",
    "# If you have a JSON string, you can parse it by using the json.loads() method."
   ]
  },
  {
   "cell_type": "code",
   "execution_count": 4,
   "id": "50046d08-2de4-4a67-a569-b6ccd100fec8",
   "metadata": {},
   "outputs": [
    {
     "name": "stdout",
     "output_type": "stream",
     "text": [
      "{'name': 'hossein', 'age': 23, 'job': 'programmer'}\n"
     ]
    }
   ],
   "source": [
    "# Parse JSON - Convert from JSON to Python\n",
    "\n",
    "import json\n",
    "\n",
    "costumer = '{ \"name\" : \"hossein\", \"age\" : 23, \"job\" : \"programmer\"}'\n",
    "\n",
    "a = json.loads(costumer)\n",
    "print(a)"
   ]
  },
  {
   "cell_type": "code",
   "execution_count": 5,
   "id": "1706f310-8500-4c2b-82d5-9537b5f6f0f8",
   "metadata": {},
   "outputs": [
    {
     "name": "stdout",
     "output_type": "stream",
     "text": [
      "{\"name\": \"hossein\", \"age\": 23, \"city\": \"nowshahr\"}\n"
     ]
    }
   ],
   "source": [
    "# Convert from Python to JSON\n",
    "# json.dumps()\n",
    "\n",
    "import json\n",
    "\n",
    "costumer = {\n",
    "    \"name\" : \"hossein\",\n",
    "    \"age\" : 23,\n",
    "    \"city\" : \"nowshahr\"\n",
    "}\n",
    "\n",
    "a = json.dumps(costumer)\n",
    "print(a)"
   ]
  },
  {
   "cell_type": "code",
   "execution_count": 9,
   "id": "e70ff402-a49a-4b62-926b-170fd2f590b4",
   "metadata": {},
   "outputs": [
    {
     "name": "stdout",
     "output_type": "stream",
     "text": [
      "{\"name\": \"hossein\", \"family\": \"mollamohammadi\", \"age\": 23, \"marriage\": true, \"divorced\": false, \"cars\": {\"brand\": \"benz\", \"model\": \"sls\"}, \"pets\": null}\n"
     ]
    }
   ],
   "source": [
    "import json\n",
    "\n",
    "Information = {\n",
    "    \"name\" : \"hossein\",\n",
    "    \"family\" : \"mollamohammadi\",\n",
    "    \"age\" : 23,\n",
    "    \"marriage\" : True,\n",
    "    \"divorced\" : False,\n",
    "    \"cars\" : {\n",
    "        \"brand\" : \"benz\",\n",
    "        \"model\" : \"sls\"\n",
    "    },\n",
    "    \"pets\" : None\n",
    "}\n",
    "\n",
    "print(json.dumps(Information))"
   ]
  },
  {
   "cell_type": "code",
   "execution_count": 13,
   "id": "f9c3cc38-fe54-4ff2-84a4-d21933b04666",
   "metadata": {},
   "outputs": [
    {
     "name": "stdout",
     "output_type": "stream",
     "text": [
      "{\n",
      "    \"name\": \"hossein\",\n",
      "    \"family\": \"mollamohammadi\",\n",
      "    \"age\": 23,\n",
      "    \"marriage\": true,\n",
      "    \"divorced\": false,\n",
      "    \"cars\": {\n",
      "        \"brand\": \"benz\",\n",
      "        \"model\": \"sls\"\n",
      "    },\n",
      "    \"pets\": null\n",
      "}\n"
     ]
    }
   ],
   "source": [
    "import json\n",
    "\n",
    "Information = {\n",
    "    \"name\" : \"hossein\",\n",
    "    \"family\" : \"mollamohammadi\",\n",
    "    \"age\" : 23,\n",
    "    \"marriage\" : True,\n",
    "    \"divorced\" : False,\n",
    "    \"cars\" : {\n",
    "        \"brand\" : \"benz\",\n",
    "        \"model\" : \"sls\"\n",
    "    },\n",
    "    \"pets\" : None\n",
    "}\n",
    "\n",
    "print(json.dumps(Information, indent=4))"
   ]
  },
  {
   "cell_type": "code",
   "execution_count": 16,
   "id": "7dd20095-a769-4aaa-8560-b751a89790a9",
   "metadata": {},
   "outputs": [
    {
     "name": "stdout",
     "output_type": "stream",
     "text": [
      "{\n",
      "    \"name\" = \"hossein\". \n",
      "    \"family\" = \"mollamohammadi\". \n",
      "    \"age\" = 23. \n",
      "    \"marriage\" = true. \n",
      "    \"divorced\" = false. \n",
      "    \"cars\" = {\n",
      "        \"brand\" = \"benz\". \n",
      "        \"model\" = \"sls\"\n",
      "    }. \n",
      "    \"pets\" = null\n",
      "}\n"
     ]
    }
   ],
   "source": [
    "import json\n",
    "\n",
    "Information = {\n",
    "    \"name\" : \"hossein\",\n",
    "    \"family\" : \"mollamohammadi\",\n",
    "    \"age\" : 23,\n",
    "    \"marriage\" : True,\n",
    "    \"divorced\" : False,\n",
    "    \"cars\" : {\n",
    "        \"brand\" : \"benz\",\n",
    "        \"model\" : \"sls\"\n",
    "    },\n",
    "    \"pets\" : None\n",
    "}\n",
    "\n",
    "print(json.dumps(Information, indent=4, separators=(\". \",\" = \")))"
   ]
  },
  {
   "cell_type": "code",
   "execution_count": null,
   "id": "91b79dd7-1944-4323-b8f9-38339d47b1f1",
   "metadata": {},
   "outputs": [],
   "source": []
  }
 ],
 "metadata": {
  "kernelspec": {
   "display_name": "Python 3 (ipykernel)",
   "language": "python",
   "name": "python3"
  },
  "language_info": {
   "codemirror_mode": {
    "name": "ipython",
    "version": 3
   },
   "file_extension": ".py",
   "mimetype": "text/x-python",
   "name": "python",
   "nbconvert_exporter": "python",
   "pygments_lexer": "ipython3",
   "version": "3.11.7"
  }
 },
 "nbformat": 4,
 "nbformat_minor": 5
}
