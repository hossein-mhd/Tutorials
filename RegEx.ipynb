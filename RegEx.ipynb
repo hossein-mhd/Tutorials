{
 "cells": [
  {
   "cell_type": "code",
   "execution_count": 1,
   "id": "580451be-b136-4d7e-9945-6aa48f79682f",
   "metadata": {},
   "outputs": [],
   "source": [
    "# A RegEx, or Regular Expression, is a sequence of characters that forms a search pattern.\n",
    "# RegEx can be used to check if a string contains the specified search pattern.\n",
    "# Python has a built-in package called re, which can be used to work with Regular Expressions."
   ]
  },
  {
   "cell_type": "code",
   "execution_count": 15,
   "id": "55f7b1d5-3586-47c7-8e41-10fdbf0c864b",
   "metadata": {},
   "outputs": [
    {
     "name": "stdout",
     "output_type": "stream",
     "text": [
      "yes we found a match\n"
     ]
    }
   ],
   "source": [
    "import re\n",
    "\n",
    "name = \"hossein is learning programming\"\n",
    "a = re.search(\"^hossein.*programming$\", name)\n",
    "\n",
    "if a:\n",
    "    print(\"yes we found a match\")\n",
    "else:\n",
    "    print(\"Noooo\")"
   ]
  },
  {
   "cell_type": "code",
   "execution_count": 16,
   "id": "3c21b768-65cd-4e8a-9cd6-6c21f1553121",
   "metadata": {},
   "outputs": [
    {
     "name": "stdout",
     "output_type": "stream",
     "text": [
      "['in', 'in', 'in']\n"
     ]
    }
   ],
   "source": [
    "# The findall()\n",
    "\n",
    "import re\n",
    "\n",
    "name = \"hossein is learning programming\"\n",
    "a = re.findall(\"in\", name)\n",
    "\n",
    "print(a)"
   ]
  },
  {
   "cell_type": "code",
   "execution_count": 20,
   "id": "4ba3e665-cea9-4265-8128-5daee0c92ca3",
   "metadata": {},
   "outputs": [
    {
     "name": "stdout",
     "output_type": "stream",
     "text": [
      "yes the white space is in line 7\n"
     ]
    }
   ],
   "source": [
    "# The search()\n",
    "\n",
    "import re\n",
    "\n",
    "name = \"hossein is learning programming\"\n",
    "a = re.search(\"\\s\", name)\n",
    "\n",
    "print(\"yes the white space is in line\", a.start())"
   ]
  },
  {
   "cell_type": "code",
   "execution_count": 22,
   "id": "6f1d3f02-abd6-4f22-a7da-4c72a7dbd5ce",
   "metadata": {},
   "outputs": [
    {
     "name": "stdout",
     "output_type": "stream",
     "text": [
      "['hossein', 'is', 'learning', 'programming']\n"
     ]
    }
   ],
   "source": [
    "# split()\n",
    "\n",
    "import re\n",
    "\n",
    "name = \"hossein is learning programming\"\n",
    "a = re.split(\"\\s\", name)\n",
    "\n",
    "print(a)"
   ]
  },
  {
   "cell_type": "code",
   "execution_count": 23,
   "id": "f3cdf16f-95e9-4216-9f34-01e9dacd335d",
   "metadata": {},
   "outputs": [
    {
     "name": "stdout",
     "output_type": "stream",
     "text": [
      "['hossein', 'is', 'learning programming']\n"
     ]
    }
   ],
   "source": [
    "import re\n",
    "\n",
    "name = \"hossein is learning programming\"\n",
    "a = re.split(\"\\s\", name, 2)\n",
    "\n",
    "print(a)"
   ]
  },
  {
   "cell_type": "code",
   "execution_count": 26,
   "id": "2f324b55-fc60-4d52-ade2-5d296da292ad",
   "metadata": {},
   "outputs": [
    {
     "name": "stdout",
     "output_type": "stream",
     "text": [
      "hosseindamnisdamnlearningdamnprogramming\n"
     ]
    }
   ],
   "source": [
    "# The sub()\n",
    "# The sub() function replaces the matches with the text of your choice\n",
    "\n",
    "import re\n",
    "\n",
    "name = \"hossein is learning programming\"\n",
    "a = re.sub(\"\\s\", \"damn\", name)\n",
    "\n",
    "print(a)"
   ]
  },
  {
   "cell_type": "code",
   "execution_count": 27,
   "id": "bc272061-eea3-4d30-8d32-6bfe929ea494",
   "metadata": {},
   "outputs": [
    {
     "name": "stdout",
     "output_type": "stream",
     "text": [
      "hosseindamnisdamnlearning programming\n"
     ]
    }
   ],
   "source": [
    "import re\n",
    "\n",
    "name = \"hossein is learning programming\"\n",
    "a = re.sub(\"\\s\", \"damn\", name, 2)\n",
    "\n",
    "print(a)"
   ]
  },
  {
   "cell_type": "code",
   "execution_count": null,
   "id": "daaacc5b-3246-49c1-a1d6-cf24a8d3eb52",
   "metadata": {},
   "outputs": [],
   "source": [
    "# Match Object\n",
    "# A Match Object is an object containing information about the search and the result\n",
    "\n",
    "# .span() returns a tuple containing the start-, and end positions of the match.\n",
    "# .string returns the string passed into the function\n",
    "# .group() returns the part of the string where there was a match"
   ]
  }
 ],
 "metadata": {
  "kernelspec": {
   "display_name": "Python 3 (ipykernel)",
   "language": "python",
   "name": "python3"
  },
  "language_info": {
   "codemirror_mode": {
    "name": "ipython",
    "version": 3
   },
   "file_extension": ".py",
   "mimetype": "text/x-python",
   "name": "python",
   "nbconvert_exporter": "python",
   "pygments_lexer": "ipython3",
   "version": "3.11.7"
  }
 },
 "nbformat": 4,
 "nbformat_minor": 5
}
