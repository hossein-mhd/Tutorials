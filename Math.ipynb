{
 "cells": [
  {
   "cell_type": "code",
   "execution_count": 4,
   "id": "fabba0ad-fea4-459f-be5c-327cf4bbea54",
   "metadata": {},
   "outputs": [
    {
     "name": "stdout",
     "output_type": "stream",
     "text": [
      "2\n",
      "10\n"
     ]
    }
   ],
   "source": [
    "# min() and max()\n",
    "\n",
    "a = min(2,4,10)\n",
    "b = max(2,4,10)\n",
    "\n",
    "print(a)\n",
    "print(b)"
   ]
  },
  {
   "cell_type": "code",
   "execution_count": 7,
   "id": "8bc44bac-a90a-4750-a516-6b6de1367e5c",
   "metadata": {},
   "outputs": [
    {
     "name": "stdout",
     "output_type": "stream",
     "text": [
      "4\n",
      "4.89\n"
     ]
    }
   ],
   "source": [
    "# abs()\n",
    "\n",
    "a = abs(-4)\n",
    "b = abs(-4.89)\n",
    "print(a)\n",
    "print(b)"
   ]
  },
  {
   "cell_type": "code",
   "execution_count": 8,
   "id": "3ed5dc1e-74dc-4836-b6f1-5f1f839b42c6",
   "metadata": {},
   "outputs": [
    {
     "name": "stdout",
     "output_type": "stream",
     "text": [
      "8\n"
     ]
    }
   ],
   "source": [
    "# pow(x, y)\n",
    "\n",
    "a = pow(2,3)\n",
    "print(a)"
   ]
  },
  {
   "cell_type": "code",
   "execution_count": 11,
   "id": "632ead30-a170-424f-8185-d0d0319fcf0a",
   "metadata": {},
   "outputs": [
    {
     "name": "stdout",
     "output_type": "stream",
     "text": [
      "8.0\n"
     ]
    }
   ],
   "source": [
    "# The Math Module\n",
    "\n",
    "# math.sqrt()\n",
    "\n",
    "import math\n",
    "\n",
    "a = math.sqrt(64)\n",
    "print(a)"
   ]
  },
  {
   "cell_type": "code",
   "execution_count": 14,
   "id": "6692abe4-516f-4176-928c-cf6cb3ed95c6",
   "metadata": {},
   "outputs": [
    {
     "name": "stdout",
     "output_type": "stream",
     "text": [
      "2\n",
      "1\n"
     ]
    }
   ],
   "source": [
    "# math.ceil() & math.floor()\n",
    "\n",
    "# The math.ceil() method rounds a number upwards to its nearest integer\n",
    "# The math.floor() method rounds a number downwards to its nearest integer, and returns the result\n",
    "\n",
    "import math\n",
    "\n",
    "a = math.ceil(1.4)\n",
    "b = math.floor(1.4)\n",
    "\n",
    "print(a)\n",
    "print(b)"
   ]
  },
  {
   "cell_type": "code",
   "execution_count": 16,
   "id": "59608335-3200-4b7a-9b55-4ca423652abe",
   "metadata": {},
   "outputs": [
    {
     "name": "stdout",
     "output_type": "stream",
     "text": [
      "3.141592653589793\n"
     ]
    }
   ],
   "source": [
    "# math.pi\n",
    "\n",
    "import math\n",
    "\n",
    "a = math.pi\n",
    "\n",
    "print(a)"
   ]
  },
  {
   "cell_type": "code",
   "execution_count": null,
   "id": "9c234127-186c-431c-b849-6070e5880b65",
   "metadata": {},
   "outputs": [],
   "source": []
  }
 ],
 "metadata": {
  "kernelspec": {
   "display_name": "Python 3 (ipykernel)",
   "language": "python",
   "name": "python3"
  },
  "language_info": {
   "codemirror_mode": {
    "name": "ipython",
    "version": 3
   },
   "file_extension": ".py",
   "mimetype": "text/x-python",
   "name": "python",
   "nbconvert_exporter": "python",
   "pygments_lexer": "ipython3",
   "version": "3.11.7"
  }
 },
 "nbformat": 4,
 "nbformat_minor": 5
}
