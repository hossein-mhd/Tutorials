{
 "cells": [
  {
   "cell_type": "code",
   "execution_count": 2,
   "id": "9dd2686f-2dd0-4da9-9664-e34dfedd61e0",
   "metadata": {},
   "outputs": [
    {
     "name": "stdout",
     "output_type": "stream",
     "text": [
      "{'firstName': 'hossein', 'lastName': 'mollamohammadi', 'age': 23, 'job': 'programmar'}\n"
     ]
    }
   ],
   "source": [
    "information = {\n",
    "    \"firstName\" : \"hossein\",\n",
    "    \"lastName\" : \"mollamohammadi\",\n",
    "    \"age\" : 23,\n",
    "    \"job\" : \"programmar\"\n",
    "}\n",
    "print(information)"
   ]
  },
  {
   "cell_type": "code",
   "execution_count": 4,
   "id": "3adaeb3e-de63-4894-bb3a-200a4c403f4e",
   "metadata": {},
   "outputs": [
    {
     "name": "stdout",
     "output_type": "stream",
     "text": [
      "hossein\n"
     ]
    }
   ],
   "source": [
    "print(information[\"firstName\"])"
   ]
  },
  {
   "cell_type": "code",
   "execution_count": 5,
   "id": "06a765ac-4a2e-4a54-b39d-b71fa3c92f38",
   "metadata": {},
   "outputs": [
    {
     "name": "stdout",
     "output_type": "stream",
     "text": [
      "4\n"
     ]
    }
   ],
   "source": [
    "print(len(information))"
   ]
  },
  {
   "cell_type": "code",
   "execution_count": 6,
   "id": "060a2543-1433-4478-9f02-3c022b437d7c",
   "metadata": {},
   "outputs": [
    {
     "name": "stdout",
     "output_type": "stream",
     "text": [
      "{'firstName': 'hossein', 'lastName': 'mollamohammadi', 'age': 23, 'job': 'programmar', 'cars': ['ford', 'ferrari', 'toyota', 'bmw', 'benz']}\n"
     ]
    }
   ],
   "source": [
    "information = {\n",
    "    \"firstName\" : \"hossein\",\n",
    "    \"lastName\" : \"mollamohammadi\",\n",
    "    \"age\" : 23,\n",
    "    \"job\" : \"programmar\",\n",
    "    \"cars\" : [\"ford\", \"ferrari\", \"toyota\", \"bmw\", \"benz\"]\n",
    "}\n",
    "print(information)"
   ]
  },
  {
   "cell_type": "code",
   "execution_count": 7,
   "id": "87557bf2-e174-4466-94fe-f4a3d1f190f8",
   "metadata": {},
   "outputs": [
    {
     "name": "stdout",
     "output_type": "stream",
     "text": [
      "<class 'dict'>\n"
     ]
    }
   ],
   "source": [
    "print(type(information))"
   ]
  },
  {
   "cell_type": "code",
   "execution_count": 8,
   "id": "7956c5c8-8ffd-43ac-8ed9-6bc5cb761032",
   "metadata": {},
   "outputs": [
    {
     "name": "stdout",
     "output_type": "stream",
     "text": [
      "{'name': 'hossein', 'age': 23, 'country': 'Iran', 'city': 'nowshahr'}\n"
     ]
    }
   ],
   "source": [
    "information = dict(name = \"hossein\", age = 23, country = \"Iran\", city = \"nowshahr\")\n",
    "print(information)"
   ]
  },
  {
   "cell_type": "code",
   "execution_count": 9,
   "id": "f6cb5ab1-d21a-4857-b0b1-53db8d7c77b6",
   "metadata": {},
   "outputs": [
    {
     "name": "stdout",
     "output_type": "stream",
     "text": [
      "hossein\n"
     ]
    }
   ],
   "source": [
    "a = information[\"name\"]\n",
    "print(a)"
   ]
  },
  {
   "cell_type": "code",
   "execution_count": 10,
   "id": "322c4159-ee40-4d01-9e5d-8c117a3d3269",
   "metadata": {},
   "outputs": [
    {
     "name": "stdout",
     "output_type": "stream",
     "text": [
      "hossein\n"
     ]
    }
   ],
   "source": [
    "# get()\n",
    "\n",
    "a = information.get(\"name\")\n",
    "print(a)"
   ]
  },
  {
   "cell_type": "code",
   "execution_count": 12,
   "id": "9aeb1da9-6a91-4b9a-b2ca-8661f8b522e8",
   "metadata": {},
   "outputs": [
    {
     "name": "stdout",
     "output_type": "stream",
     "text": [
      "dict_keys(['name', 'age', 'country', 'city'])\n"
     ]
    }
   ],
   "source": [
    "# keys()\n",
    "\n",
    "a = information.keys()\n",
    "print(a)"
   ]
  },
  {
   "cell_type": "code",
   "execution_count": 3,
   "id": "17601f33-62da-42b8-9294-33424d84c748",
   "metadata": {},
   "outputs": [
    {
     "ename": "NameError",
     "evalue": "name 'information' is not defined",
     "output_type": "error",
     "traceback": [
      "\u001b[1;31m---------------------------------------------------------------------------\u001b[0m",
      "\u001b[1;31mNameError\u001b[0m                                 Traceback (most recent call last)",
      "Cell \u001b[1;32mIn[3], line 1\u001b[0m\n\u001b[1;32m----> 1\u001b[0m information[\u001b[38;5;124m\"\u001b[39m\u001b[38;5;124mcolor\u001b[39m\u001b[38;5;124m\"\u001b[39m] \u001b[38;5;241m=\u001b[39m \u001b[38;5;124m\"\u001b[39m\u001b[38;5;124mblue\u001b[39m\u001b[38;5;124m\"\u001b[39m\n\u001b[0;32m      2\u001b[0m \u001b[38;5;28mprint\u001b[39m(a)\n",
      "\u001b[1;31mNameError\u001b[0m: name 'information' is not defined"
     ]
    }
   ],
   "source": [
    "information[\"color\"] = \"blue\"\n",
    "print(a)"
   ]
  },
  {
   "cell_type": "code",
   "execution_count": 4,
   "id": "d918691d-b73f-4a6e-a2ab-3304a65ca63b",
   "metadata": {},
   "outputs": [
    {
     "ename": "NameError",
     "evalue": "name 'information' is not defined",
     "output_type": "error",
     "traceback": [
      "\u001b[1;31m---------------------------------------------------------------------------\u001b[0m",
      "\u001b[1;31mNameError\u001b[0m                                 Traceback (most recent call last)",
      "Cell \u001b[1;32mIn[4], line 3\u001b[0m\n\u001b[0;32m      1\u001b[0m \u001b[38;5;66;03m# values()\u001b[39;00m\n\u001b[1;32m----> 3\u001b[0m a \u001b[38;5;241m=\u001b[39m information\u001b[38;5;241m.\u001b[39mvalues()\n\u001b[0;32m      4\u001b[0m \u001b[38;5;28mprint\u001b[39m(a)\n",
      "\u001b[1;31mNameError\u001b[0m: name 'information' is not defined"
     ]
    }
   ],
   "source": [
    "# values()\n",
    "\n",
    "a = information.values()\n",
    "print(a)"
   ]
  },
  {
   "cell_type": "code",
   "execution_count": 5,
   "id": "0db9b226-3662-4f05-a0b9-d8fb11caf111",
   "metadata": {},
   "outputs": [
    {
     "ename": "NameError",
     "evalue": "name 'information' is not defined",
     "output_type": "error",
     "traceback": [
      "\u001b[1;31m---------------------------------------------------------------------------\u001b[0m",
      "\u001b[1;31mNameError\u001b[0m                                 Traceback (most recent call last)",
      "Cell \u001b[1;32mIn[5], line 3\u001b[0m\n\u001b[0;32m      1\u001b[0m \u001b[38;5;66;03m# item()\u001b[39;00m\n\u001b[1;32m----> 3\u001b[0m a \u001b[38;5;241m=\u001b[39m information\u001b[38;5;241m.\u001b[39mitems()\n\u001b[0;32m      4\u001b[0m \u001b[38;5;28mprint\u001b[39m(a)\n",
      "\u001b[1;31mNameError\u001b[0m: name 'information' is not defined"
     ]
    }
   ],
   "source": [
    "# item()\n",
    "\n",
    "a = information.items()\n",
    "print(a)"
   ]
  },
  {
   "cell_type": "code",
   "execution_count": 6,
   "id": "974dcf7a-f598-4226-a6b1-b3d03778709f",
   "metadata": {},
   "outputs": [
    {
     "ename": "NameError",
     "evalue": "name 'information' is not defined",
     "output_type": "error",
     "traceback": [
      "\u001b[1;31m---------------------------------------------------------------------------\u001b[0m",
      "\u001b[1;31mNameError\u001b[0m                                 Traceback (most recent call last)",
      "Cell \u001b[1;32mIn[6], line 1\u001b[0m\n\u001b[1;32m----> 1\u001b[0m \u001b[38;5;28;01mif\u001b[39;00m \u001b[38;5;124m\"\u001b[39m\u001b[38;5;124mage\u001b[39m\u001b[38;5;124m\"\u001b[39m \u001b[38;5;129;01min\u001b[39;00m information:\n\u001b[0;32m      2\u001b[0m     \u001b[38;5;28mprint\u001b[39m(\u001b[38;5;124m\"\u001b[39m\u001b[38;5;124mYes, it\u001b[39m\u001b[38;5;124m'\u001b[39m\u001b[38;5;124ms in the information\u001b[39m\u001b[38;5;124m\"\u001b[39m)\n",
      "\u001b[1;31mNameError\u001b[0m: name 'information' is not defined"
     ]
    }
   ],
   "source": [
    "if \"age\" in information:\n",
    "    print(\"Yes, it's in the information\")"
   ]
  },
  {
   "cell_type": "code",
   "execution_count": 7,
   "id": "dda23e45-8f20-4e03-aa4b-8bc8f4bfabaf",
   "metadata": {},
   "outputs": [
    {
     "name": "stdout",
     "output_type": "stream",
     "text": [
      "{'firstName': 'hossein', 'lastName': 'mollamohammadi', 'age': 23, 'job': 'master'}\n"
     ]
    }
   ],
   "source": [
    "# Update Dictionary\n",
    "\n",
    "information = {\n",
    "    \"firstName\" : \"hossein\",\n",
    "    \"lastName\" : \"mollamohammadi\",\n",
    "    \"age\" : 23,\n",
    "    \"job\" : \"programmar\"\n",
    "}\n",
    "information.update({\"job\" : \"master\"})\n",
    "print(information)"
   ]
  },
  {
   "cell_type": "code",
   "execution_count": 10,
   "id": "fb2036c5-afa6-40e3-b57a-2112bbcadd9e",
   "metadata": {},
   "outputs": [
    {
     "name": "stdout",
     "output_type": "stream",
     "text": [
      "{'firstName': 'hossein', 'lastName': 'mollamohammadi', 'age': 23, 'job': 'programmar', 'color': 'blue'}\n"
     ]
    }
   ],
   "source": [
    "# Adding Items\n",
    "\n",
    "information = {\n",
    "    \"firstName\" : \"hossein\",\n",
    "    \"lastName\" : \"mollamohammadi\",\n",
    "    \"age\" : 23,\n",
    "    \"job\" : \"programmar\"\n",
    "}\n",
    "information[\"color\"] = \"blue\"\n",
    "print(information)"
   ]
  },
  {
   "cell_type": "code",
   "execution_count": 11,
   "id": "48af3a29-a3a3-4859-ac57-107d6a602fe3",
   "metadata": {},
   "outputs": [
    {
     "name": "stdout",
     "output_type": "stream",
     "text": [
      "{'firstName': 'hossein', 'lastName': 'mollamohammadi', 'age': 23, 'job': 'programmar', 'color': 'blue'}\n"
     ]
    }
   ],
   "source": [
    "information = {\n",
    "    \"firstName\" : \"hossein\",\n",
    "    \"lastName\" : \"mollamohammadi\",\n",
    "    \"age\" : 23,\n",
    "    \"job\" : \"programmar\"\n",
    "}\n",
    "information.update({\"color\" : \"blue\"})\n",
    "print(information)"
   ]
  },
  {
   "cell_type": "code",
   "execution_count": 12,
   "id": "945dbd26-6504-47d6-83f4-d8e209962acc",
   "metadata": {},
   "outputs": [
    {
     "name": "stdout",
     "output_type": "stream",
     "text": [
      "{'firstName': 'hossein', 'lastName': 'mollamohammadi', 'job': 'programmar'}\n"
     ]
    }
   ],
   "source": [
    "# pop()\n",
    "\n",
    "information = {\n",
    "    \"firstName\" : \"hossein\",\n",
    "    \"lastName\" : \"mollamohammadi\",\n",
    "    \"age\" : 23,\n",
    "    \"job\" : \"programmar\"\n",
    "}\n",
    "information.pop(\"age\")\n",
    "print(information)"
   ]
  },
  {
   "cell_type": "code",
   "execution_count": 13,
   "id": "7123771c-ce92-4a08-a9a0-274dda567d30",
   "metadata": {},
   "outputs": [
    {
     "name": "stdout",
     "output_type": "stream",
     "text": [
      "{'firstName': 'hossein', 'lastName': 'mollamohammadi', 'age': 23}\n"
     ]
    }
   ],
   "source": [
    "# popitem()\n",
    "\n",
    "information = {\n",
    "    \"firstName\" : \"hossein\",\n",
    "    \"lastName\" : \"mollamohammadi\",\n",
    "    \"age\" : 23,\n",
    "    \"job\" : \"programmar\"\n",
    "}\n",
    "information.popitem()\n",
    "print(information)"
   ]
  },
  {
   "cell_type": "code",
   "execution_count": 14,
   "id": "06d68c0f-b06d-408d-9ea8-722cd5d88bc4",
   "metadata": {},
   "outputs": [
    {
     "name": "stdout",
     "output_type": "stream",
     "text": [
      "{'firstName': 'hossein', 'lastName': 'mollamohammadi', 'job': 'programmar'}\n"
     ]
    }
   ],
   "source": [
    "# del\n",
    "\n",
    "information = {\n",
    "    \"firstName\" : \"hossein\",\n",
    "    \"lastName\" : \"mollamohammadi\",\n",
    "    \"age\" : 23,\n",
    "    \"job\" : \"programmar\"\n",
    "}\n",
    "del information[\"age\"]\n",
    "print(information)"
   ]
  },
  {
   "cell_type": "code",
   "execution_count": 15,
   "id": "338d5e91-d322-49b3-90d9-61e48c425a72",
   "metadata": {},
   "outputs": [
    {
     "ename": "NameError",
     "evalue": "name 'information' is not defined",
     "output_type": "error",
     "traceback": [
      "\u001b[1;31m---------------------------------------------------------------------------\u001b[0m",
      "\u001b[1;31mNameError\u001b[0m                                 Traceback (most recent call last)",
      "Cell \u001b[1;32mIn[15], line 8\u001b[0m\n\u001b[0;32m      1\u001b[0m information \u001b[38;5;241m=\u001b[39m {\n\u001b[0;32m      2\u001b[0m     \u001b[38;5;124m\"\u001b[39m\u001b[38;5;124mfirstName\u001b[39m\u001b[38;5;124m\"\u001b[39m : \u001b[38;5;124m\"\u001b[39m\u001b[38;5;124mhossein\u001b[39m\u001b[38;5;124m\"\u001b[39m,\n\u001b[0;32m      3\u001b[0m     \u001b[38;5;124m\"\u001b[39m\u001b[38;5;124mlastName\u001b[39m\u001b[38;5;124m\"\u001b[39m : \u001b[38;5;124m\"\u001b[39m\u001b[38;5;124mmollamohammadi\u001b[39m\u001b[38;5;124m\"\u001b[39m,\n\u001b[0;32m      4\u001b[0m     \u001b[38;5;124m\"\u001b[39m\u001b[38;5;124mage\u001b[39m\u001b[38;5;124m\"\u001b[39m : \u001b[38;5;241m23\u001b[39m,\n\u001b[0;32m      5\u001b[0m     \u001b[38;5;124m\"\u001b[39m\u001b[38;5;124mjob\u001b[39m\u001b[38;5;124m\"\u001b[39m : \u001b[38;5;124m\"\u001b[39m\u001b[38;5;124mprogrammar\u001b[39m\u001b[38;5;124m\"\u001b[39m\n\u001b[0;32m      6\u001b[0m }\n\u001b[0;32m      7\u001b[0m \u001b[38;5;28;01mdel\u001b[39;00m information\n\u001b[1;32m----> 8\u001b[0m \u001b[38;5;28mprint\u001b[39m(information)\n",
      "\u001b[1;31mNameError\u001b[0m: name 'information' is not defined"
     ]
    }
   ],
   "source": [
    "information = {\n",
    "    \"firstName\" : \"hossein\",\n",
    "    \"lastName\" : \"mollamohammadi\",\n",
    "    \"age\" : 23,\n",
    "    \"job\" : \"programmar\"\n",
    "}\n",
    "del information\n",
    "print(information)\n",
    "#this will cause an error because \"thisdict\" no longer exists."
   ]
  },
  {
   "cell_type": "code",
   "execution_count": 16,
   "id": "9231298a-752e-4ade-9edf-fa13366bfc05",
   "metadata": {},
   "outputs": [
    {
     "name": "stdout",
     "output_type": "stream",
     "text": [
      "firstName\n",
      "lastName\n",
      "age\n",
      "job\n"
     ]
    }
   ],
   "source": [
    "# Loop\n",
    "\n",
    "information = {\n",
    "    \"firstName\" : \"hossein\",\n",
    "    \"lastName\" : \"mollamohammadi\",\n",
    "    \"age\" : 23,\n",
    "    \"job\" : \"programmar\"\n",
    "}\n",
    "for item in information:\n",
    "    print(item)"
   ]
  },
  {
   "cell_type": "code",
   "execution_count": 23,
   "id": "07dc794d-f886-4105-8a18-82333fc7a7ea",
   "metadata": {},
   "outputs": [
    {
     "name": "stdout",
     "output_type": "stream",
     "text": [
      "hossein\n",
      "mollamohammadi\n",
      "23\n",
      "programmar\n",
      "hossein\n",
      "mollamohammadi\n",
      "23\n",
      "programmar\n",
      "firstName\n",
      "lastName\n",
      "age\n",
      "job\n"
     ]
    }
   ],
   "source": [
    "information = {\n",
    "    \"firstName\" : \"hossein\",\n",
    "    \"lastName\" : \"mollamohammadi\",\n",
    "    \"age\" : 23,\n",
    "    \"job\" : \"programmar\"\n",
    "}\n",
    "for item in information:\n",
    "    print(information[item])\n",
    "# or\n",
    "for item in information.values():\n",
    "    print(item)\n",
    "# returning keys:\n",
    "for keys in information.keys():\n",
    "    print(keys)"
   ]
  },
  {
   "cell_type": "code",
   "execution_count": 25,
   "id": "2e10161e-32f8-4c0d-a9f2-437335cdde03",
   "metadata": {},
   "outputs": [
    {
     "name": "stdout",
     "output_type": "stream",
     "text": [
      "firstName hossein\n",
      "lastName mollamohammadi\n",
      "age 23\n",
      "job programmar\n"
     ]
    }
   ],
   "source": [
    "# items()\n",
    "\n",
    "information = {\n",
    "    \"firstName\" : \"hossein\",\n",
    "    \"lastName\" : \"mollamohammadi\",\n",
    "    \"age\" : 23,\n",
    "    \"job\" : \"programmar\"\n",
    "}\n",
    "for keys, values in information.items():\n",
    "    print(keys, values)"
   ]
  },
  {
   "cell_type": "code",
   "execution_count": 26,
   "id": "db528f2d-145f-47ad-80b2-29aa03628d1b",
   "metadata": {},
   "outputs": [
    {
     "name": "stdout",
     "output_type": "stream",
     "text": [
      "{'firstName': 'hossein', 'lastName': 'mollamohammadi', 'age': 23, 'job': 'programmar'}\n"
     ]
    }
   ],
   "source": [
    "# Copy a Dictionary\n",
    "\n",
    "# dict()\n",
    "\n",
    "information = {\n",
    "    \"firstName\" : \"hossein\",\n",
    "    \"lastName\" : \"mollamohammadi\",\n",
    "    \"age\" : 23,\n",
    "    \"job\" : \"programmar\"\n",
    "}\n",
    "newDict = dict(information)\n",
    "print(newDict)"
   ]
  },
  {
   "cell_type": "code",
   "execution_count": 29,
   "id": "a1e67350-45df-411f-98f2-ecea969f861f",
   "metadata": {},
   "outputs": [
    {
     "name": "stdout",
     "output_type": "stream",
     "text": [
      "{'firstName': 'hossein', 'lastName': 'mollamohammadi', 'age': 23, 'job': 'programmar'}\n"
     ]
    }
   ],
   "source": [
    "# copy()\n",
    "\n",
    "information = {\n",
    "    \"firstName\" : \"hossein\",\n",
    "    \"lastName\" : \"mollamohammadi\",\n",
    "    \"age\" : 23,\n",
    "    \"job\" : \"programmar\"\n",
    "}\n",
    "information2 = information.copy()\n",
    "print(information)"
   ]
  },
  {
   "cell_type": "code",
   "execution_count": 31,
   "id": "376d837c-aa8d-4ef2-ac10-9f515b5f2889",
   "metadata": {},
   "outputs": [
    {
     "name": "stdout",
     "output_type": "stream",
     "text": [
      "{'st1': {'name': 'hossein', 'age': 23}, 'st2': {'name': 'hamid', 'age': 22}, 'st3': {'name': 'keyvan', 'age': 25}}\n"
     ]
    }
   ],
   "source": [
    "students = { \"st1\" : { \"name\" : \"hossein\",\n",
    "                       \"age\" : 23 },\n",
    "             \"st2\" : { \"name\" : \"hamid\",\n",
    "                       \"age\" : 22 },\n",
    "             \"st3\" : { \"name\" : \"keyvan\",\n",
    "                       \"age\" : 25 }\n",
    "           }\n",
    "print(students)"
   ]
  },
  {
   "cell_type": "code",
   "execution_count": 32,
   "id": "59003caf-1e6b-482d-97a2-59a62776195d",
   "metadata": {},
   "outputs": [
    {
     "name": "stdout",
     "output_type": "stream",
     "text": [
      "{'st1': {'name': 'hossein', 'age': 23}, 'st2': {'name': 'hamid', 'age': 22}, 'st3': {'name': 'keyvan', 'age': 25}}\n"
     ]
    }
   ],
   "source": [
    "st1 = { \"name\" : \"hossein\",\n",
    "          \"age\" : 23 \n",
    "        }\n",
    "st2 = { \"name\" : \"hamid\",\n",
    "          \"age\" : 22 \n",
    "        }\n",
    "st3 = { \"name\" : \"keyvan\",\n",
    "        \"age\" : 25 \n",
    "      }\n",
    "students = {\n",
    "    \"st1\" : st1,\n",
    "    \"st2\" : st2,\n",
    "    \"st3\" : st3\n",
    "}\n",
    "print(students)"
   ]
  },
  {
   "cell_type": "code",
   "execution_count": 33,
   "id": "183479e2-3de9-49e2-80b8-94b2a96a2086",
   "metadata": {},
   "outputs": [
    {
     "name": "stdout",
     "output_type": "stream",
     "text": [
      "23\n"
     ]
    }
   ],
   "source": [
    "students = { \"st1\" : { \"name\" : \"hossein\",\n",
    "                       \"age\" : 23 },\n",
    "             \"st2\" : { \"name\" : \"hamid\",\n",
    "                       \"age\" : 22 },\n",
    "             \"st3\" : { \"name\" : \"keyvan\",\n",
    "                       \"age\" : 25 }\n",
    "           }\n",
    "print(students[\"st1\"][\"age\"])"
   ]
  },
  {
   "cell_type": "code",
   "execution_count": 38,
   "id": "98d4ce01-af51-4cf6-871d-930066e4b1f3",
   "metadata": {},
   "outputs": [
    {
     "name": "stdout",
     "output_type": "stream",
     "text": [
      "st1\n",
      "name :  hossein\n",
      "age :  23\n",
      "st2\n",
      "name :  hamid\n",
      "age :  22\n",
      "st3\n",
      "name :  keyvan\n",
      "age :  25\n"
     ]
    }
   ],
   "source": [
    "students = { \"st1\" : { \"name\" : \"hossein\",\n",
    "                       \"age\" : 23 },\n",
    "             \"st2\" : { \"name\" : \"hamid\",\n",
    "                       \"age\" : 22 },\n",
    "             \"st3\" : { \"name\" : \"keyvan\",\n",
    "                       \"age\" : 25 }\n",
    "           }\n",
    "for a, obj in students.items():\n",
    "    print(a)\n",
    "    for b in obj:\n",
    "        print(b + \" : \", obj[b])"
   ]
  },
  {
   "cell_type": "code",
   "execution_count": null,
   "id": "4b82e0f9-a100-4939-a74b-4ca9013faf72",
   "metadata": {},
   "outputs": [],
   "source": []
  }
 ],
 "metadata": {
  "kernelspec": {
   "display_name": "Python 3 (ipykernel)",
   "language": "python",
   "name": "python3"
  },
  "language_info": {
   "codemirror_mode": {
    "name": "ipython",
    "version": 3
   },
   "file_extension": ".py",
   "mimetype": "text/x-python",
   "name": "python",
   "nbconvert_exporter": "python",
   "pygments_lexer": "ipython3",
   "version": "3.11.7"
  }
 },
 "nbformat": 4,
 "nbformat_minor": 5
}
