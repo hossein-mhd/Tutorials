{
 "cells": [
  {
   "cell_type": "code",
   "execution_count": 3,
   "id": "e19da783-1566-4b84-a82b-64fd1b84dc70",
   "metadata": {},
   "outputs": [
    {
     "name": "stdout",
     "output_type": "stream",
     "text": [
      "{True, 'hossein', 2}\n",
      "{False, 'hossein', 4}\n"
     ]
    }
   ],
   "source": [
    "# True and 1 is considered the same value\n",
    "newSet = {\"hossein\", True, 1, 2}\n",
    "print(newSet)\n",
    "\n",
    "# False and 0 is considered the same value\n",
    "newSet = {\"hossein\", False, 0, 4}\n",
    "print(newSet)"
   ]
  },
  {
   "cell_type": "code",
   "execution_count": 4,
   "id": "bf644c84-5715-4001-802a-03649f6f3ac0",
   "metadata": {},
   "outputs": [
    {
     "name": "stdout",
     "output_type": "stream",
     "text": [
      "{True, 'hossein', 2}\n"
     ]
    }
   ],
   "source": [
    "# Constructor\n",
    "\n",
    "newSet = set((\"hossein\", True, 1, 2))\n",
    "print(newSet)"
   ]
  },
  {
   "cell_type": "code",
   "execution_count": 2,
   "id": "e967edcd-24c4-4811-8142-933aae88e902",
   "metadata": {},
   "outputs": [
    {
     "name": "stdout",
     "output_type": "stream",
     "text": [
      "hossein\n",
      "ali\n",
      "ahmad\n"
     ]
    }
   ],
   "source": [
    "names = {\"hossein\", \"ali\", \"ahmad\"}\n",
    "for name in names:\n",
    "    print(name)"
   ]
  },
  {
   "cell_type": "code",
   "execution_count": 3,
   "id": "34e9f828-1d84-4b77-ad24-76ddc4b5daf2",
   "metadata": {},
   "outputs": [
    {
     "name": "stdout",
     "output_type": "stream",
     "text": [
      "{'hossein', 'ali', 'hamid', 'ahmad'}\n"
     ]
    }
   ],
   "source": [
    "# Add Items\n",
    "\n",
    "names.add(\"hamid\")\n",
    "print(names)"
   ]
  },
  {
   "cell_type": "code",
   "execution_count": 5,
   "id": "9f653c9b-b714-41ff-b1fc-29118c885b5f",
   "metadata": {},
   "outputs": [
    {
     "name": "stdout",
     "output_type": "stream",
     "text": [
      "{'hossein', 'ali', 'kobra', 'hamid', 'ahmad', 'siavash', 'asghar'}\n"
     ]
    }
   ],
   "source": [
    "# Add Sets\n",
    "\n",
    "newNames = {\"siavash\", \"asghar\", \"kobra\"}\n",
    "names.update(newNames)\n",
    "print(names)"
   ]
  },
  {
   "cell_type": "code",
   "execution_count": 6,
   "id": "133fc824-29b3-43b7-a790-19edeb8bd4d8",
   "metadata": {},
   "outputs": [
    {
     "name": "stdout",
     "output_type": "stream",
     "text": [
      "{'hossein', 'ali', 'kobra', 'arash', 'siavash', 'ahmad', 'jahangir', 'asghar', 'hamid'}\n"
     ]
    }
   ],
   "source": [
    "nameList = [\"arash\", \"jahangir\"]\n",
    "names.update(nameList)\n",
    "print(names)"
   ]
  },
  {
   "cell_type": "code",
   "execution_count": 16,
   "id": "b778a995-7c8f-4ec4-b055-6bbc6d555c7c",
   "metadata": {},
   "outputs": [
    {
     "ename": "KeyError",
     "evalue": "'ali'",
     "output_type": "error",
     "traceback": [
      "\u001b[1;31m---------------------------------------------------------------------------\u001b[0m",
      "\u001b[1;31mKeyError\u001b[0m                                  Traceback (most recent call last)",
      "Cell \u001b[1;32mIn[16], line 3\u001b[0m\n\u001b[0;32m      1\u001b[0m \u001b[38;5;66;03m# Remove() _ discard() _ pop()\u001b[39;00m\n\u001b[1;32m----> 3\u001b[0m names\u001b[38;5;241m.\u001b[39mremove(\u001b[38;5;124m\"\u001b[39m\u001b[38;5;124mali\u001b[39m\u001b[38;5;124m\"\u001b[39m)\n\u001b[0;32m      4\u001b[0m names\u001b[38;5;241m.\u001b[39mdiscard(\u001b[38;5;124m\"\u001b[39m\u001b[38;5;124mhamid\u001b[39m\u001b[38;5;124m\"\u001b[39m)   \u001b[38;5;66;03m#  If the item to remove does not exist, discard() will NOT raise an error.\u001b[39;00m\n\u001b[0;32m      5\u001b[0m \u001b[38;5;28mprint\u001b[39m(names)\n",
      "\u001b[1;31mKeyError\u001b[0m: 'ali'"
     ]
    }
   ],
   "source": [
    "# Remove() _ discard() _ pop()\n",
    "\n",
    "names.remove(\"ali\")\n",
    "names.discard(\"hamid\")   #  If the item to remove does not exist, discard() will NOT raise an error.\n",
    "print(names)"
   ]
  },
  {
   "cell_type": "code",
   "execution_count": 20,
   "id": "139b48ee-b5d3-43d6-a68a-40690a04ca9f",
   "metadata": {},
   "outputs": [
    {
     "name": "stdout",
     "output_type": "stream",
     "text": [
      "{'ali', 'ahmad'}\n"
     ]
    }
   ],
   "source": [
    "names = {\"hossein\", \"ali\", \"ahmad\"}\n",
    "names.pop()              #  Sets are unordered, so when using the pop() method, you do not know which item that gets removed\n",
    "print(names)"
   ]
  },
  {
   "cell_type": "code",
   "execution_count": 21,
   "id": "9dd80d4f-09ad-45be-8b54-a39f192a0f40",
   "metadata": {},
   "outputs": [],
   "source": [
    "# Join Sets\n",
    "#The union() and update() methods joins all items from both sets.\n",
    "#The intersection() method keeps ONLY the duplicates.\n",
    "#   Both union() and update() will exclude any duplicate items\n",
    "#The difference() method keeps the items from the first set that are not in the other set(s).\n",
    "#The symmetric_difference() method keeps all items EXCEPT the duplicates."
   ]
  },
  {
   "cell_type": "code",
   "execution_count": 25,
   "id": "b42686bb-ff2c-48e1-b625-c45374d2c27e",
   "metadata": {},
   "outputs": [
    {
     "name": "stdout",
     "output_type": "stream",
     "text": [
      "{'hossein', 'ali', 'saba', 'ahmad', 'sina', 'sara'}\n"
     ]
    }
   ],
   "source": [
    "names1 = {\"hossein\", \"ali\", \"ahmad\"}\n",
    "names2 = {\"saba\", \"sina\", \"sara\"}\n",
    "#names3 = names1.union(names2)\n",
    "names3 = names1 | names2     # You can use the | operator instead of the union() method, and you will get the same result.\n",
    "print(names3)"
   ]
  },
  {
   "cell_type": "code",
   "execution_count": 28,
   "id": "f2700c1b-f724-47e8-84b1-846dd47518b2",
   "metadata": {},
   "outputs": [
    {
     "name": "stdout",
     "output_type": "stream",
     "text": [
      "{'hossein', 'ali', 'saba', 'samira', 'ahmad', 'sina', 'anahita', 'sara'}\n"
     ]
    }
   ],
   "source": [
    "names3 = {\"samira\"}\n",
    "names4 = {\"anahita\"}\n",
    "#namesUnion = names1.union(names2, names3, names4)\n",
    "namesUnion = names1 | names2 | names3 | names4\n",
    "print(namesUnion)"
   ]
  },
  {
   "cell_type": "code",
   "execution_count": 29,
   "id": "ab7faaad-c3bb-4016-b560-614b7c5fb45b",
   "metadata": {},
   "outputs": [],
   "source": [
    "# The  | operator only allows you to join sets with sets, and not with other data types like you can with the  union() method."
   ]
  },
  {
   "cell_type": "code",
   "execution_count": 30,
   "id": "6c621e6f-a9d8-4d6f-b50e-bfebb3e8d29c",
   "metadata": {},
   "outputs": [
    {
     "name": "stdout",
     "output_type": "stream",
     "text": [
      "{'hossein', 'ali', 'saba', 'ahmad', 'sina', 'sara'}\n"
     ]
    }
   ],
   "source": [
    "names1 = {\"hossein\", \"ali\", \"ahmad\"}\n",
    "names2 = {\"saba\", \"sina\", \"sara\"}\n",
    "names1.update(names2)\n",
    "print(names1)\n",
    "\n",
    "#The update() changes the original set, and does not return a new set."
   ]
  },
  {
   "cell_type": "code",
   "execution_count": 36,
   "id": "4bfe2360-bcee-46ee-9d3f-97e4f20d7eed",
   "metadata": {},
   "outputs": [
    {
     "name": "stdout",
     "output_type": "stream",
     "text": [
      "{'hossein'}\n"
     ]
    }
   ],
   "source": [
    "# The intersection() method will return a new set, that only contains the items that are present in both sets.\n",
    "\n",
    "names1 = {\"hossein\", \"ali\", \"ahmad\"}\n",
    "names2 = {\"hossein\", \"sina\", \"sara\"}\n",
    "#namesUnion = names1.intersection(names2)\n",
    "namesUnion = names1 & names2\n",
    "print(namesUnion)\n",
    "# The & operator only allows you to join sets with sets, and not with other data types like you can with the intersection() method.n"
   ]
  },
  {
   "cell_type": "code",
   "execution_count": 38,
   "id": "962bee44-f417-4122-9afb-9b9f47d455e5",
   "metadata": {},
   "outputs": [
    {
     "name": "stdout",
     "output_type": "stream",
     "text": [
      "{'hossein'}\n"
     ]
    }
   ],
   "source": [
    "# The intersection_update() method will also keep ONLY the duplicates, but it will change the original set instead of returning a new set.\n",
    "\n",
    "names1.intersection_update(names2)\n",
    "print(names1)"
   ]
  },
  {
   "cell_type": "code",
   "execution_count": 41,
   "id": "69774b7e-344d-42b4-9ae7-75f7f3639d5b",
   "metadata": {},
   "outputs": [
    {
     "name": "stdout",
     "output_type": "stream",
     "text": [
      "{'ali', 'ahmad'}\n"
     ]
    }
   ],
   "source": [
    "# The difference() method will return a new set that will contain only the items from the first set that are not present in the other set.\n",
    "\n",
    "names1 = {\"hossein\", \"ali\", \"ahmad\"}\n",
    "names2 = {\"hossein\", \"sina\", \"sara\"}\n",
    "#names = names1.difference(names2)\n",
    "names = names1 - names2\n",
    "print(names)\n",
    "# The - operator only allows you to join sets with sets, and not with other data types like you can with the difference() method."
   ]
  },
  {
   "cell_type": "code",
   "execution_count": 42,
   "id": "fe871726-74c6-4ab6-85bd-facabcff243a",
   "metadata": {},
   "outputs": [
    {
     "name": "stdout",
     "output_type": "stream",
     "text": [
      "{'ali', 'ahmad'}\n"
     ]
    }
   ],
   "source": [
    "# The difference_update() method will also keep the items from the first set that are not in the other set, but it will change the original set instead of returning a new set.\n",
    "names1 = {\"hossein\", \"ali\", \"ahmad\"}\n",
    "names2 = {\"hossein\", \"sina\", \"sara\"}\n",
    "names1.difference_update(names2)\n",
    "print(names1)"
   ]
  },
  {
   "cell_type": "code",
   "execution_count": 44,
   "id": "344200f9-f217-416c-8b6c-8e9702ba36b6",
   "metadata": {},
   "outputs": [
    {
     "name": "stdout",
     "output_type": "stream",
     "text": [
      "{'ali', 'sina', 'ahmad', 'sara'}\n"
     ]
    }
   ],
   "source": [
    "# The symmetric_difference() method will keep only the elements that are NOT present in both sets.\n",
    "\n",
    "names1 = {\"hossein\", \"ali\", \"ahmad\"}\n",
    "names2 = {\"hossein\", \"sina\", \"sara\"}\n",
    "#names = names1.symmetric_difference(names2)\n",
    "names = names1 ^ names2\n",
    "print(names)\n",
    "# The ^ operator only allows you to join sets with sets, and not with other data types like you can with the symmetric_difference() method."
   ]
  },
  {
   "cell_type": "code",
   "execution_count": 46,
   "id": "fee46c0c-b085-4314-b1ca-502a4e6630fa",
   "metadata": {},
   "outputs": [
    {
     "name": "stdout",
     "output_type": "stream",
     "text": [
      "{'sina', 'ali', 'sara', 'ahmad'}\n"
     ]
    }
   ],
   "source": [
    "# The symmetric_difference_update() method will also keep all but the duplicates, but it will change the original set instead of returning a new set.\n",
    "names1 = {\"hossein\", \"ali\", \"ahmad\"}\n",
    "names2 = {\"hossein\", \"sina\", \"sara\"}\n",
    "names1.symmetric_difference_update(names2)\n",
    "print(names1)"
   ]
  },
  {
   "cell_type": "code",
   "execution_count": null,
   "id": "dfcdd75a-8d82-4081-afce-ee2ce17b2c3d",
   "metadata": {},
   "outputs": [],
   "source": []
  }
 ],
 "metadata": {
  "kernelspec": {
   "display_name": "Python 3 (ipykernel)",
   "language": "python",
   "name": "python3"
  },
  "language_info": {
   "codemirror_mode": {
    "name": "ipython",
    "version": 3
   },
   "file_extension": ".py",
   "mimetype": "text/x-python",
   "name": "python",
   "nbconvert_exporter": "python",
   "pygments_lexer": "ipython3",
   "version": "3.11.7"
  }
 },
 "nbformat": 4,
 "nbformat_minor": 5
}
