{
 "cells": [
  {
   "cell_type": "code",
   "execution_count": 1,
   "id": "62553e9b-5b89-4e9f-9731-ff0ae84fe888",
   "metadata": {},
   "outputs": [
    {
     "name": "stdout",
     "output_type": "stream",
     "text": [
      "1\n",
      "2\n",
      "3\n",
      "4\n"
     ]
    }
   ],
   "source": [
    "i = 1 \n",
    "while i<5:\n",
    "    print(i)\n",
    "    i += 1"
   ]
  },
  {
   "cell_type": "code",
   "execution_count": 4,
   "id": "313b669e-0ac2-4086-8e10-f0f0485ce078",
   "metadata": {},
   "outputs": [
    {
     "name": "stdout",
     "output_type": "stream",
     "text": [
      "1\n",
      "2\n"
     ]
    }
   ],
   "source": [
    "# The break Statement\n",
    "\n",
    "i = 1 \n",
    "while i<5:\n",
    "    print(i)\n",
    "    i += 1\n",
    "    if i == 3:\n",
    "        break\n"
   ]
  },
  {
   "cell_type": "code",
   "execution_count": 16,
   "id": "c5589a5b-7adf-4da0-91fc-79aaf12fc579",
   "metadata": {},
   "outputs": [
    {
     "name": "stdout",
     "output_type": "stream",
     "text": [
      "1\n",
      "2\n",
      "4\n",
      "5\n"
     ]
    }
   ],
   "source": [
    "i = 0 \n",
    "while i<5:\n",
    "    i += 1\n",
    "    if i == 3:\n",
    "        continue\n",
    "    print(i)"
   ]
  },
  {
   "cell_type": "code",
   "execution_count": 17,
   "id": "5a8f46f2-c305-499d-aa4b-d8162eb04e35",
   "metadata": {},
   "outputs": [
    {
     "name": "stdout",
     "output_type": "stream",
     "text": [
      "1\n",
      "2\n",
      "3\n",
      "4\n",
      "5\n",
      "the condition is no longer true\n"
     ]
    }
   ],
   "source": [
    "i = 1\n",
    "while i < 6:\n",
    "  print(i)\n",
    "  i += 1\n",
    "else:\n",
    "    print(\"the condition is no longer true\")"
   ]
  },
  {
   "cell_type": "code",
   "execution_count": 18,
   "id": "651f96fe-afd4-4b05-80a1-8e7773213ab4",
   "metadata": {},
   "outputs": [],
   "source": [
    "# For Loops"
   ]
  },
  {
   "cell_type": "code",
   "execution_count": 19,
   "id": "1bf08f1e-9f78-4384-99a8-769a2666cb2a",
   "metadata": {},
   "outputs": [
    {
     "name": "stdout",
     "output_type": "stream",
     "text": [
      "h\n",
      "o\n",
      "s\n",
      "s\n",
      "e\n",
      "i\n",
      "n\n"
     ]
    }
   ],
   "source": [
    "a = \"hossein\"\n",
    "for letter in a:\n",
    "    print(letter)"
   ]
  },
  {
   "cell_type": "code",
   "execution_count": 22,
   "id": "b41c7165-6507-4e8d-bafc-b163486659b9",
   "metadata": {},
   "outputs": [
    {
     "name": "stdout",
     "output_type": "stream",
     "text": [
      "h\n",
      "o\n",
      "s\n",
      "s\n"
     ]
    }
   ],
   "source": [
    "a = \"hossein\"\n",
    "for letter in a:\n",
    "    if letter == \"e\":\n",
    "        break\n",
    "    print(letter)"
   ]
  },
  {
   "cell_type": "code",
   "execution_count": 23,
   "id": "6b7a9069-d58b-4f80-8228-cce6de433932",
   "metadata": {},
   "outputs": [
    {
     "name": "stdout",
     "output_type": "stream",
     "text": [
      "h\n",
      "o\n",
      "s\n",
      "s\n",
      "i\n",
      "n\n"
     ]
    }
   ],
   "source": [
    "a = \"hossein\"\n",
    "for letter in a:\n",
    "    if letter == \"e\":\n",
    "        continue\n",
    "    print(letter)"
   ]
  },
  {
   "cell_type": "code",
   "execution_count": 24,
   "id": "3ff2cf7d-6552-4e0c-8741-06cdd6361c19",
   "metadata": {},
   "outputs": [
    {
     "name": "stdout",
     "output_type": "stream",
     "text": [
      "0\n",
      "1\n",
      "2\n",
      "3\n",
      "4\n",
      "5\n",
      "6\n"
     ]
    }
   ],
   "source": [
    "for i in range(7):\n",
    "    print(i)"
   ]
  },
  {
   "cell_type": "code",
   "execution_count": 25,
   "id": "245e74aa-4ca4-43c1-a098-6f9e17a3b9e1",
   "metadata": {},
   "outputs": [
    {
     "name": "stdout",
     "output_type": "stream",
     "text": [
      "3\n",
      "4\n",
      "5\n",
      "6\n"
     ]
    }
   ],
   "source": [
    "for i in range(3, 7):\n",
    "    print(i)"
   ]
  },
  {
   "cell_type": "code",
   "execution_count": 26,
   "id": "0b9e607e-a4c5-49fb-a7ce-142e316896ae",
   "metadata": {},
   "outputs": [
    {
     "name": "stdout",
     "output_type": "stream",
     "text": [
      "2\n",
      "4\n",
      "6\n",
      "8\n"
     ]
    }
   ],
   "source": [
    "for i in range(2, 10, 2):\n",
    "    print(i)"
   ]
  },
  {
   "cell_type": "code",
   "execution_count": 27,
   "id": "3c13965d-3a2e-49f8-8553-715269d2c8d2",
   "metadata": {},
   "outputs": [
    {
     "name": "stdout",
     "output_type": "stream",
     "text": [
      "2\n",
      "4\n",
      "6\n",
      "8\n",
      "Finished!!!\n"
     ]
    }
   ],
   "source": [
    "for i in range(2, 10, 2):\n",
    "    print(i)\n",
    "else:\n",
    "    print(\"Finished!!!\")"
   ]
  },
  {
   "cell_type": "code",
   "execution_count": 30,
   "id": "7313cb11-4642-4c12-aa6c-5a23b47b1397",
   "metadata": {},
   "outputs": [
    {
     "name": "stdout",
     "output_type": "stream",
     "text": [
      "2\n",
      "4\n"
     ]
    }
   ],
   "source": [
    "# The else block will NOT be executed if the loop is stopped by a break statement.\n",
    "\n",
    "for i in range(2, 10, 2):\n",
    "    if i == 6: break\n",
    "    print(i)\n",
    "else:\n",
    "    print(\"Finished!!!\")"
   ]
  },
  {
   "cell_type": "code",
   "execution_count": 33,
   "id": "c1b9e4d1-b077-448b-8a81-d8505212140d",
   "metadata": {},
   "outputs": [
    {
     "name": "stdout",
     "output_type": "stream",
     "text": [
      "hossein asadi\n",
      "hossein mohammadi\n",
      "hossein akbari\n",
      "hamid asadi\n",
      "hamid mohammadi\n",
      "hamid akbari\n",
      "ali asadi\n",
      "ali mohammadi\n",
      "ali akbari\n"
     ]
    }
   ],
   "source": [
    "# nested loops\n",
    "\n",
    "firstName = [\"hossein\", \"hamid\", \"ali\"]\n",
    "lastName = [\"asadi\", \"mohammadi\", \"akbari\"]\n",
    "for name in firstName:\n",
    "    for family in lastName:\n",
    "        print(name, family)"
   ]
  },
  {
   "cell_type": "code",
   "execution_count": 34,
   "id": "83c0cef4-f073-474a-8acf-f85df35cb36e",
   "metadata": {},
   "outputs": [],
   "source": [
    "# The pass Statement\n",
    "\n",
    "for i in range(9):\n",
    "    pass"
   ]
  }
 ],
 "metadata": {
  "kernelspec": {
   "display_name": "Python 3 (ipykernel)",
   "language": "python",
   "name": "python3"
  },
  "language_info": {
   "codemirror_mode": {
    "name": "ipython",
    "version": 3
   },
   "file_extension": ".py",
   "mimetype": "text/x-python",
   "name": "python",
   "nbconvert_exporter": "python",
   "pygments_lexer": "ipython3",
   "version": "3.11.7"
  }
 },
 "nbformat": 4,
 "nbformat_minor": 5
}
