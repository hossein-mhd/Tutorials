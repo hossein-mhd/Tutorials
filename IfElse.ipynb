{
 "cells": [
  {
   "cell_type": "code",
   "execution_count": 1,
   "id": "a91c6592-c132-4ff7-9548-3df324e5665a",
   "metadata": {},
   "outputs": [
    {
     "name": "stdin",
     "output_type": "stream",
     "text": [
      "weight:  60\n",
      "K ot L?  K\n"
     ]
    },
    {
     "name": "stdout",
     "output_type": "stream",
     "text": [
      "your weight in lbs:  132.276  lbs\n"
     ]
    }
   ],
   "source": [
    "weight = float((input(\"weight: \")))\n",
    "unit = (input(\"K ot L? \"))\n",
    "if unit.upper() ==\"K\":\n",
    "    converted= weight * 2.2046\n",
    "    print(\"your weight in lbs: \", converted, \" lbs\")\n",
    "elif unit.upper() ==\"L\":\n",
    "    converted = weight / 2.2046\n",
    "    print(\"your weight in kg: \", converted, \" kg\")\n",
    "else:\n",
    "    print(\"invalid input!!!\")"
   ]
  },
  {
   "cell_type": "code",
   "execution_count": 41,
   "id": "8c1e755d-b5a9-4af2-855f-614d6a7b1d31",
   "metadata": {},
   "outputs": [
    {
     "name": "stdin",
     "output_type": "stream",
     "text": [
      "Please enter a number between 1 - 4: 8\n"
     ]
    },
    {
     "name": "stdout",
     "output_type": "stream",
     "text": [
      "invalid input, \n"
     ]
    },
    {
     "name": "stdin",
     "output_type": "stream",
     "text": [
      "Please enter a number between 1 - 4: 8\n"
     ]
    },
    {
     "name": "stdout",
     "output_type": "stream",
     "text": [
      "Wrong answer, Game over!!!\n"
     ]
    }
   ],
   "source": [
    "import random\n",
    "\n",
    "a = random.randint(1,4)\n",
    "b = input(\"Please enter a number between 1 - 4:\")\n",
    "b = int(b)\n",
    "if b < 1 or b > 4:\n",
    "    print(\"invalid input, \")\n",
    "    b = input(\"Please enter a number between 1 - 4:\")\n",
    "    b = int(b)\n",
    "    if b == a:\n",
    "        print(\"Yeahhhh, that was true.\")\n",
    "    elif b != a:\n",
    "        print(\"Wrong answer, Game over!!!\")\n",
    "else:\n",
    "    if b == a:\n",
    "        print(\"Yeahhhh, that was true.\")\n",
    "    elif b != a:\n",
    "        print(\"Wrong answer, Game over!!!\")"
   ]
  },
  {
   "cell_type": "code",
   "execution_count": 8,
   "id": "c690951f-d2a2-423d-b19b-7ca79e9d28ba",
   "metadata": {},
   "outputs": [
    {
     "name": "stdout",
     "output_type": "stream",
     "text": [
      "a is smaller than b\n"
     ]
    }
   ],
   "source": [
    "# Short Hand If\n",
    "\n",
    "a = 2\n",
    "b = 3\n",
    "if a < b: print(\"a is smaller than b\")"
   ]
  },
  {
   "cell_type": "code",
   "execution_count": 9,
   "id": "946bd721-9dcd-477d-8d88-4b878f802471",
   "metadata": {},
   "outputs": [
    {
     "name": "stdout",
     "output_type": "stream",
     "text": [
      "B\n"
     ]
    }
   ],
   "source": [
    "# Short Hand If ... Else\n",
    "\n",
    "a = 2\n",
    "b = 3\n",
    "print(\"A\") if a > b else print(\"B\") "
   ]
  },
  {
   "cell_type": "code",
   "execution_count": 15,
   "id": "956e30cb-067c-44a4-88c7-f62a08b9c607",
   "metadata": {},
   "outputs": [
    {
     "name": "stdout",
     "output_type": "stream",
     "text": [
      "B\n"
     ]
    }
   ],
   "source": [
    "a = 4\n",
    "b = 10\n",
    "print(\"A\") if a > b else print(\"=\") if a == b else print(\"B\")"
   ]
  }
 ],
 "metadata": {
  "kernelspec": {
   "display_name": "Python 3 (ipykernel)",
   "language": "python",
   "name": "python3"
  },
  "language_info": {
   "codemirror_mode": {
    "name": "ipython",
    "version": 3
   },
   "file_extension": ".py",
   "mimetype": "text/x-python",
   "name": "python",
   "nbconvert_exporter": "python",
   "pygments_lexer": "ipython3",
   "version": "3.11.7"
  }
 },
 "nbformat": 4,
 "nbformat_minor": 5
}
