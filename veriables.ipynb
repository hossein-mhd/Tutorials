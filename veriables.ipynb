{
 "cells": [
  {
   "cell_type": "code",
   "execution_count": 1,
   "id": "5ff1dc83-3f9a-4fd7-a7ea-a241318bd01a",
   "metadata": {},
   "outputs": [
    {
     "name": "stdout",
     "output_type": "stream",
     "text": [
      "<class 'float'> 5.0\n",
      "<class 'int'> 4\n"
     ]
    }
   ],
   "source": [
    "x = float(5)\n",
    "y = int(4.8)\n",
    "print(type(x),x)\n",
    "print(type(y),y)"
   ]
  },
  {
   "cell_type": "code",
   "execution_count": null,
   "id": "7c581649-343c-4cc7-9917-d3b02718e983",
   "metadata": {},
   "outputs": [],
   "source": [
    "# camel case :\n",
    "myVariableName\n",
    "\n",
    "# pascal case : \n",
    "MyVariableName\n",
    "\n",
    "# snake case :\n",
    "my_variable_name"
   ]
  },
  {
   "cell_type": "code",
   "execution_count": 2,
   "id": "ba116a2c-394c-4a1d-8332-3dc23b114c36",
   "metadata": {},
   "outputs": [
    {
     "name": "stdout",
     "output_type": "stream",
     "text": [
      "hossein\n",
      "ali\n",
      "hasan\n"
     ]
    }
   ],
   "source": [
    "x, y, z = \"hossein\", \"ali\", \"hasan\"\n",
    "print(x)\n",
    "print(y)\n",
    "print(z)"
   ]
  },
  {
   "cell_type": "code",
   "execution_count": 3,
   "id": "e50af54f-5776-485c-838a-f3476e0c9fbb",
   "metadata": {},
   "outputs": [
    {
     "name": "stdout",
     "output_type": "stream",
     "text": [
      "hossein\n",
      "hossein\n",
      "hossein\n"
     ]
    }
   ],
   "source": [
    "a = b = c = \"hossein\"\n",
    "print(a)\n",
    "print(b)\n",
    "print(c)"
   ]
  },
  {
   "cell_type": "code",
   "execution_count": 4,
   "id": "f5db12b9-6aba-4858-9eed-ba4e2f1cabc7",
   "metadata": {},
   "outputs": [
    {
     "name": "stdout",
     "output_type": "stream",
     "text": [
      "hossein\n",
      "ali\n",
      "milad\n"
     ]
    }
   ],
   "source": [
    "# Unpack a Collection\n",
    "\n",
    "names = [\"hossein\", \"ali\", \"milad\"]\n",
    "a, b, c = names\n",
    "print(a)\n",
    "print(b)\n",
    "print(c)"
   ]
  },
  {
   "cell_type": "code",
   "execution_count": 5,
   "id": "8af461a3-c2b6-42ea-869a-ee7e3829572a",
   "metadata": {},
   "outputs": [
    {
     "ename": "ValueError",
     "evalue": "too many values to unpack (expected 2)",
     "output_type": "error",
     "traceback": [
      "\u001b[1;31m---------------------------------------------------------------------------\u001b[0m",
      "\u001b[1;31mValueError\u001b[0m                                Traceback (most recent call last)",
      "Cell \u001b[1;32mIn[5], line 2\u001b[0m\n\u001b[0;32m      1\u001b[0m names \u001b[38;5;241m=\u001b[39m [\u001b[38;5;124m\"\u001b[39m\u001b[38;5;124mhossein\u001b[39m\u001b[38;5;124m\"\u001b[39m, \u001b[38;5;124m\"\u001b[39m\u001b[38;5;124mali\u001b[39m\u001b[38;5;124m\"\u001b[39m, \u001b[38;5;124m\"\u001b[39m\u001b[38;5;124mmilad\u001b[39m\u001b[38;5;124m\"\u001b[39m]\n\u001b[1;32m----> 2\u001b[0m a, b\u001b[38;5;241m=\u001b[39m names\n\u001b[0;32m      3\u001b[0m \u001b[38;5;28mprint\u001b[39m(a)\n\u001b[0;32m      4\u001b[0m \u001b[38;5;28mprint\u001b[39m(b)\n",
      "\u001b[1;31mValueError\u001b[0m: too many values to unpack (expected 2)"
     ]
    }
   ],
   "source": [
    "names = [\"hossein\", \"ali\", \"milad\"]\n",
    "a, b= names\n",
    "print(a)\n",
    "print(b)"
   ]
  },
  {
   "cell_type": "code",
   "execution_count": 7,
   "id": "f329bbb9-8f98-4f16-9e7f-53a3b0ddcc04",
   "metadata": {},
   "outputs": [
    {
     "name": "stdout",
     "output_type": "stream",
     "text": [
      "hossein  is a machine learning  engineer.\n",
      "hossein is a machine learning engineer.\n"
     ]
    }
   ],
   "source": [
    "# Output Variables\n",
    "\n",
    "a = \"hossein \"\n",
    "b = \"is a machine learning \"\n",
    "c = \"engineer.\"\n",
    "print(a, b, c)\n",
    "print(a + b + c)"
   ]
  },
  {
   "cell_type": "code",
   "execution_count": 8,
   "id": "6c78a540-5e07-41d2-b50b-9fe434434721",
   "metadata": {},
   "outputs": [
    {
     "name": "stdout",
     "output_type": "stream",
     "text": [
      "11\n"
     ]
    }
   ],
   "source": [
    "a = 2\n",
    "b = 3\n",
    "c = 6\n",
    "print(a + b + c)"
   ]
  },
  {
   "cell_type": "code",
   "execution_count": 11,
   "id": "00b498aa-2330-4713-ad02-1b311ef57e06",
   "metadata": {},
   "outputs": [
    {
     "name": "stdout",
     "output_type": "stream",
     "text": [
      "hossein 3\n"
     ]
    }
   ],
   "source": [
    "a = \"hossein\"\n",
    "b = 3\n",
    "# print(a + b)  cause Error\n",
    "print(a, b)"
   ]
  },
  {
   "cell_type": "code",
   "execution_count": 13,
   "id": "85e5297a-3025-44fc-9198-e13f2e7a998c",
   "metadata": {},
   "outputs": [
    {
     "name": "stdout",
     "output_type": "stream",
     "text": [
      "my name is ali\n",
      "my name is hossein \n"
     ]
    }
   ],
   "source": [
    "# global variables\n",
    "\n",
    "x = \"hossein \"\n",
    "def nameMaker():\n",
    "    x = \"ali\"\n",
    "    print(\"my name is \" + x)\n",
    "nameMaker()\n",
    "print(\"my name is \" + x)"
   ]
  },
  {
   "cell_type": "code",
   "execution_count": 17,
   "id": "8769ca2c-df44-4743-8812-6ff78812bf95",
   "metadata": {},
   "outputs": [
    {
     "name": "stdout",
     "output_type": "stream",
     "text": [
      "my name is hossein\n"
     ]
    }
   ],
   "source": [
    "def nameMaker():\n",
    "    global x\n",
    "    x = \"hossein\"\n",
    "#nameMaker()\n",
    "print(\"my name is \" + x)"
   ]
  },
  {
   "cell_type": "code",
   "execution_count": 30,
   "id": "69b2b71d-4fc0-4cb1-98e1-c5e0ad90519b",
   "metadata": {},
   "outputs": [
    {
     "name": "stdout",
     "output_type": "stream",
     "text": [
      "1j\n",
      "<class 'complex'>\n",
      "range(0, 9)\n",
      "<class 'range'>\n"
     ]
    }
   ],
   "source": [
    "# data types\n",
    "\n",
    "# complex\n",
    "h = 1j\n",
    "print(h)\n",
    "print(type(h))\n",
    "\n",
    "# range\n",
    "a = range(9)\n",
    "print(a)\n",
    "print(type(a))"
   ]
  },
  {
   "cell_type": "code",
   "execution_count": 34,
   "id": "4a273fe7-4680-4f7b-abd2-78b48cb890b9",
   "metadata": {},
   "outputs": [
    {
     "name": "stdout",
     "output_type": "stream",
     "text": [
      "<class 'int'>\n",
      "<class 'float'>\n",
      "2.0\n",
      "<class 'float'>\n"
     ]
    }
   ],
   "source": [
    "# Type Conversion\n",
    "\n",
    "a = 2\n",
    "b = 3.5\n",
    "print(type(a))\n",
    "print(type(b))\n",
    "\n",
    "x = float(a)\n",
    "print(x)\n",
    "print(type(x))"
   ]
  },
  {
   "cell_type": "code",
   "execution_count": 47,
   "id": "af024814-0602-413c-9c0b-8cf814764a41",
   "metadata": {},
   "outputs": [
    {
     "name": "stdout",
     "output_type": "stream",
     "text": [
      "2\n"
     ]
    }
   ],
   "source": [
    "# Random Number\n",
    "\n",
    "import random\n",
    "a = random.randrange(1,10)\n",
    "print(a)"
   ]
  },
  {
   "cell_type": "code",
   "execution_count": 53,
   "id": "82a9b061-40f2-4da5-90da-8e0fc4b67cf3",
   "metadata": {},
   "outputs": [
    {
     "name": "stdout",
     "output_type": "stream",
     "text": [
      " Lorem ipsum dolor sit amet, consectetur adipiscing elit, sed do eiusmod tempor incididunt ut labore et dolore magna aliqua.\n",
      " \n",
      " Lorem ipsum dolor sit amet,\n",
      "consectetur adipiscing elit,\n",
      "sed do eiusmod tempor incididunt\n",
      "ut labore et dolore magna aliqua.\n"
     ]
    }
   ],
   "source": [
    "# Multiline Strings\n",
    "\n",
    "a = \"\"\" Lorem ipsum dolor sit amet, consectetur adipiscing elit, sed do eiusmod tempor incididunt ut labore et dolore magna aliqua.\\n \"\"\"\n",
    "print(a)\n",
    "b = \"\"\" Lorem ipsum dolor sit amet,\n",
    "consectetur adipiscing elit,\n",
    "sed do eiusmod tempor incididunt\n",
    "ut labore et dolore magna aliqua.\"\"\"\n",
    "print(b)"
   ]
  },
  {
   "cell_type": "code",
   "execution_count": 54,
   "id": "ce095737-a790-468d-b43a-1e30d60eace1",
   "metadata": {},
   "outputs": [
    {
     "name": "stdout",
     "output_type": "stream",
     "text": [
      "s\n"
     ]
    }
   ],
   "source": [
    "name = \"hossein\"\n",
    "print(name[2])"
   ]
  },
  {
   "cell_type": "code",
   "execution_count": 55,
   "id": "6c5fa623-8afd-41ac-9a18-769665042cf9",
   "metadata": {},
   "outputs": [
    {
     "name": "stdout",
     "output_type": "stream",
     "text": [
      "h\n",
      "o\n",
      "s\n",
      "s\n",
      "e\n",
      "i\n",
      "n\n"
     ]
    }
   ],
   "source": [
    "for i in name:\n",
    "    print(i)"
   ]
  },
  {
   "cell_type": "code",
   "execution_count": 57,
   "id": "1b393797-6928-490b-9c27-d418854035fd",
   "metadata": {},
   "outputs": [
    {
     "name": "stdout",
     "output_type": "stream",
     "text": [
      "7\n"
     ]
    }
   ],
   "source": [
    "print(len(name))"
   ]
  },
  {
   "cell_type": "code",
   "execution_count": 58,
   "id": "47922fc3-a476-4356-8df1-a86011a8c5be",
   "metadata": {},
   "outputs": [
    {
     "name": "stdout",
     "output_type": "stream",
     "text": [
      "True\n"
     ]
    }
   ],
   "source": [
    "print(\"h\" in name)"
   ]
  },
  {
   "cell_type": "code",
   "execution_count": 63,
   "id": "7969163a-852b-4018-bc1d-6d59a020ed17",
   "metadata": {},
   "outputs": [
    {
     "name": "stdout",
     "output_type": "stream",
     "text": [
      "No, it doesen't exist!\n"
     ]
    }
   ],
   "source": [
    "if \"g\" in name:\n",
    "    print(\"Yes, letter 'h' in the name.\")\n",
    "else:\n",
    "    print(\"No, it doesen't exist!\")"
   ]
  },
  {
   "cell_type": "code",
   "execution_count": 64,
   "id": "4ec3ac09-bf49-4567-80b1-600350bf88e3",
   "metadata": {},
   "outputs": [
    {
     "name": "stdout",
     "output_type": "stream",
     "text": [
      "True\n"
     ]
    }
   ],
   "source": [
    "print(\"f\" not in name)"
   ]
  },
  {
   "cell_type": "code",
   "execution_count": 65,
   "id": "d6e5f498-87c0-4d84-a810-c43c492d53a7",
   "metadata": {},
   "outputs": [
    {
     "name": "stdout",
     "output_type": "stream",
     "text": [
      "The letter 'f' is not in name\n"
     ]
    }
   ],
   "source": [
    "if \"f\" not in name:\n",
    "    print(\"The letter 'f' is not in name\")"
   ]
  },
  {
   "cell_type": "code",
   "execution_count": 72,
   "id": "daae74fd-ac48-4826-afc0-26671f0de1a7",
   "metadata": {},
   "outputs": [
    {
     "name": "stdout",
     "output_type": "stream",
     "text": [
      "sse\n",
      "hosse\n",
      "ssein\n",
      "\n",
      "ss\n"
     ]
    }
   ],
   "source": [
    "# Slicing Strings\n",
    "\n",
    "name = \"hossein\"\n",
    "a = name[2:5]       # from 2 to not include 5\n",
    "b = name[:5]        # from start to not include 5\n",
    "c = name[2:]        # from 2 to the end\n",
    "d = name[-2:-5]\n",
    "e = name[-5:-3]\n",
    "print(a)\n",
    "print(b)\n",
    "print(c)\n",
    "print(d)\n",
    "print(e)"
   ]
  },
  {
   "cell_type": "code",
   "execution_count": 74,
   "id": "66dd62c1-8580-4f74-bb6c-93bc358bcc59",
   "metadata": {},
   "outputs": [
    {
     "name": "stdout",
     "output_type": "stream",
     "text": [
      "HOSSEIN\n"
     ]
    }
   ],
   "source": [
    "# Modify Strings\n",
    "\n",
    "a = name.upper()\n",
    "print(a)"
   ]
  },
  {
   "cell_type": "code",
   "execution_count": 76,
   "id": "00bd9a30-a578-4a3e-a5fc-887f76815ffd",
   "metadata": {},
   "outputs": [
    {
     "name": "stdout",
     "output_type": "stream",
     "text": [
      "hamed\n"
     ]
    }
   ],
   "source": [
    "name = \"Hamed\"\n",
    "print(name.lower())"
   ]
  },
  {
   "cell_type": "code",
   "execution_count": 77,
   "id": "d861d3a9-6207-4bc6-b044-a36bd38c1914",
   "metadata": {},
   "outputs": [
    {
     "name": "stdout",
     "output_type": "stream",
     "text": [
      "hossein\n"
     ]
    }
   ],
   "source": [
    "# Remove Whitespace before and after the actual text\n",
    "\n",
    "name = \"  hossein  \"\n",
    "a = name.strip()\n",
    "print(a)"
   ]
  },
  {
   "cell_type": "code",
   "execution_count": 78,
   "id": "dab427ec-cf6a-4126-a915-a102dcedf5d8",
   "metadata": {},
   "outputs": [
    {
     "name": "stdout",
     "output_type": "stream",
     "text": [
      "tossein\n"
     ]
    }
   ],
   "source": [
    "# Replace String\n",
    "\n",
    "name = \"hossein\"\n",
    "a = name.replace(\"h\", \"t\")\n",
    "print(a)"
   ]
  },
  {
   "cell_type": "code",
   "execution_count": 80,
   "id": "220b7e3f-a989-4f72-82fe-3796a82d8994",
   "metadata": {},
   "outputs": [
    {
     "name": "stdout",
     "output_type": "stream",
     "text": [
      "['ho', '', 'ein']\n",
      "['h', 'ssein']\n"
     ]
    }
   ],
   "source": [
    "a = name.split(\"s\")\n",
    "b = name.split(\"o\")\n",
    "print(a)\n",
    "print(b)"
   ]
  },
  {
   "cell_type": "code",
   "execution_count": 81,
   "id": "58087455-7bc8-4a45-a646-1df93a21e853",
   "metadata": {},
   "outputs": [
    {
     "name": "stdout",
     "output_type": "stream",
     "text": [
      "hossein mollamohammdi\n"
     ]
    }
   ],
   "source": [
    "name = \"hossein\"\n",
    "second_name = \"mollamohammdi\"\n",
    "full_name = name + \" \" + second_name\n",
    "print(full_name)"
   ]
  },
  {
   "cell_type": "code",
   "execution_count": 82,
   "id": "72eb31db-14c1-4bd4-bc5b-1853cc29e762",
   "metadata": {},
   "outputs": [
    {
     "name": "stdout",
     "output_type": "stream",
     "text": [
      "my name is hossein, and I'm 23.\n"
     ]
    }
   ],
   "source": [
    "# F-Strings\n",
    "\n",
    "name = \"hossein\"\n",
    "age = 23\n",
    "text = f\"my name is {name}, and I'm {age}.\"\n",
    "print(text)"
   ]
  },
  {
   "cell_type": "code",
   "execution_count": 83,
   "id": "d43bb417-6710-4002-a0ad-a3c22f968ebb",
   "metadata": {},
   "outputs": [
    {
     "name": "stdout",
     "output_type": "stream",
     "text": [
      "The price is 59.00 dollars\n"
     ]
    }
   ],
   "source": [
    "price = 59\n",
    "txt = f\"The price is {price:.2f} dollars\"   \n",
    "# A modifier is included by adding a colon : followed by a legal formatting type, like .2f which means fixed point number with 2 decimals\n",
    "print(txt)"
   ]
  },
  {
   "cell_type": "code",
   "execution_count": 85,
   "id": "86105750-4fb3-4a55-a46c-b865bf05fe9d",
   "metadata": {},
   "outputs": [
    {
     "name": "stdout",
     "output_type": "stream",
     "text": [
      "The price is 269394 dollars\n"
     ]
    }
   ],
   "source": [
    "txt = f\"The price is {price * 4566} dollars\"\n",
    "print(txt)"
   ]
  },
  {
   "cell_type": "code",
   "execution_count": 86,
   "id": "dd136814-8f70-4ea0-b1a8-0b02221cc68a",
   "metadata": {},
   "outputs": [
    {
     "name": "stdout",
     "output_type": "stream",
     "text": [
      "We are the so-called \"Vikings\" from the north.\n"
     ]
    }
   ],
   "source": [
    "# Escape Characters\n",
    "\n",
    "txt = \"We are the so-called \\\"Vikings\\\" from the north.\"\n",
    "print(txt)"
   ]
  },
  {
   "cell_type": "code",
   "execution_count": 87,
   "id": "8ec5dfed-961a-47c9-85d2-a3aefd722d5f",
   "metadata": {},
   "outputs": [
    {
     "name": "stdout",
     "output_type": "stream",
     "text": [
      "True\n",
      "False\n",
      "False\n"
     ]
    }
   ],
   "source": [
    "# Booleans\n",
    "\n",
    "print(10 > 9)\n",
    "print(10 == 9)\n",
    "print(10 < 9)"
   ]
  },
  {
   "cell_type": "code",
   "execution_count": 90,
   "id": "8d20e834-482e-485d-b886-aecec58f3507",
   "metadata": {
    "scrolled": true
   },
   "outputs": [
    {
     "name": "stdout",
     "output_type": "stream",
     "text": [
      "True\n",
      "True\n",
      "False\n",
      "False\n",
      "False\n",
      "False\n",
      "False\n",
      "False\n",
      "False\n"
     ]
    }
   ],
   "source": [
    "# Evaluate Values\n",
    "\n",
    "print(bool(\"Hello\"))\n",
    "print(bool(15))\n",
    "print(bool(False))\n",
    "print(bool(None))\n",
    "print(bool(0))\n",
    "print(bool(\"\"))\n",
    "print(bool(()))\n",
    "print(bool([]))\n",
    "print(bool({}))"
   ]
  },
  {
   "cell_type": "code",
   "execution_count": 92,
   "id": "b0dafa5a-0d8b-43f1-8c6a-f10bba34e9ac",
   "metadata": {},
   "outputs": [
    {
     "name": "stdout",
     "output_type": "stream",
     "text": [
      "NO!\n"
     ]
    }
   ],
   "source": [
    "def myFunction() :\n",
    "  return False\n",
    "\n",
    "if myFunction():\n",
    "  print(\"YES!\")\n",
    "else:\n",
    "  print(\"NO!\")"
   ]
  },
  {
   "cell_type": "code",
   "execution_count": 93,
   "id": "e7a992c3-8f03-4ff6-9924-53707f38a56c",
   "metadata": {},
   "outputs": [
    {
     "name": "stdout",
     "output_type": "stream",
     "text": [
      "True\n"
     ]
    }
   ],
   "source": [
    "# isinstance() function can be used to determine if an object is of a certain data type\n",
    "\n",
    "x = 200\n",
    "print(isinstance(x, int))"
   ]
  },
  {
   "cell_type": "code",
   "execution_count": null,
   "id": "a6fcc2b3-188b-407b-b261-85c467f28f8f",
   "metadata": {},
   "outputs": [],
   "source": []
  }
 ],
 "metadata": {
  "kernelspec": {
   "display_name": "Python 3 (ipykernel)",
   "language": "python",
   "name": "python3"
  },
  "language_info": {
   "codemirror_mode": {
    "name": "ipython",
    "version": 3
   },
   "file_extension": ".py",
   "mimetype": "text/x-python",
   "name": "python",
   "nbconvert_exporter": "python",
   "pygments_lexer": "ipython3",
   "version": "3.11.7"
  }
 },
 "nbformat": 4,
 "nbformat_minor": 5
}
